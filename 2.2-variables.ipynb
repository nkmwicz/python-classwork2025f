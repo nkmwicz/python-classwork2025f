{
 "cells": [
  {
   "cell_type": "code",
   "execution_count": null,
   "id": "dfe67a87",
   "metadata": {},
   "outputs": [],
   "source": [
    "# str, int, float, booleans✔\n",
    "# Complex/collection data types\n",
    "## list, dict, tuple, set,\n",
    "# methods\n",
    "# coercing\n",
    "# f-strings.\n",
    "# type hinting"
   ]
  },
  {
   "cell_type": "code",
   "execution_count": 6,
   "id": "c46a4fe9",
   "metadata": {},
   "outputs": [
    {
     "data": {
      "text/plain": [
       "(4, 0)"
      ]
     },
     "execution_count": 6,
     "metadata": {},
     "output_type": "execute_result"
    }
   ],
   "source": [
    "# list\n",
    "## changeable,duplicates,orderd,\n",
    "## index is base 0\n",
    "## length  starts @ 1\n",
    "ex_list = [1, 1.0, \"1.0\", True]\n",
    "ex_list1 = list()\n",
    "len(ex_list), len(ex_list1)"
   ]
  },
  {
   "cell_type": "code",
   "execution_count": 18,
   "id": "f29d5b9e",
   "metadata": {},
   "outputs": [
    {
     "data": {
      "text/plain": [
       "['1.0', True]"
      ]
     },
     "execution_count": 18,
     "metadata": {},
     "output_type": "execute_result"
    }
   ],
   "source": [
    "# accessing list items\n",
    "ex_list[3]\n",
    "# getting last itme\n",
    "ex_list[-2] \n",
    "# get series of items\n",
    "ex_list[1:3]\n",
    "# all up to the 3rd index\n",
    "ex_list[:3]\n",
    "# all after a specific index\n",
    "ex_list[2:]"
   ]
  },
  {
   "cell_type": "code",
   "execution_count": 19,
   "id": "9dfa4429",
   "metadata": {},
   "outputs": [
    {
     "data": {
      "text/plain": [
       "4"
      ]
     },
     "execution_count": 19,
     "metadata": {},
     "output_type": "execute_result"
    }
   ],
   "source": [
    "# list methods\n",
    "# pop, append, extend, remove\n",
    "\n",
    "my_list = [1,2,3,4]\n",
    "my_list.pop()"
   ]
  },
  {
   "cell_type": "code",
   "execution_count": 21,
   "id": "ff4daf53",
   "metadata": {},
   "outputs": [
    {
     "data": {
      "text/plain": [
       "3"
      ]
     },
     "execution_count": 21,
     "metadata": {},
     "output_type": "execute_result"
    }
   ],
   "source": [
    "new_list = my_list.pop()\n",
    "new_list"
   ]
  },
  {
   "cell_type": "code",
   "execution_count": 27,
   "id": "e4c63a1c",
   "metadata": {},
   "outputs": [
    {
     "data": {
      "text/plain": [
       "[1, 1.0, '1.0']"
      ]
     },
     "execution_count": 27,
     "metadata": {},
     "output_type": "execute_result"
    }
   ],
   "source": [
    "ex_list = ex_list[:-1]\n",
    "ex_list"
   ]
  },
  {
   "cell_type": "code",
   "execution_count": 29,
   "id": "5d613919",
   "metadata": {},
   "outputs": [
    {
     "data": {
      "text/plain": [
       "[1, 1.0, '1.0', 'True', 'True']"
      ]
     },
     "execution_count": 29,
     "metadata": {},
     "output_type": "execute_result"
    }
   ],
   "source": [
    "# apend\n",
    "ex_list.append(\"True\")\n",
    "ex_list"
   ]
  },
  {
   "cell_type": "code",
   "execution_count": 31,
   "id": "31590a26",
   "metadata": {},
   "outputs": [
    {
     "data": {
      "text/plain": [
       "[1, 1.0, '1.0', [1, 2], 3, 'True', 'True']"
      ]
     },
     "execution_count": 31,
     "metadata": {},
     "output_type": "execute_result"
    }
   ],
   "source": [
    "ex_list.insert(3,my_list)\n",
    "ex_list"
   ]
  },
  {
   "cell_type": "code",
   "execution_count": 42,
   "id": "b81d2fa7",
   "metadata": {},
   "outputs": [
    {
     "data": {
      "text/plain": [
       "[['R', 'H', 'B', 'Q', 'K', 'B', 'H', 'R'],\n",
       " ['P', 'P', 'P', 'P', 'P', 'P', 'P', 'P'],\n",
       " ['', '', '', '', '', '', '', ''],\n",
       " ['', '', '', '', '', '', '', ''],\n",
       " ['', '', '', '', '', '', '', ''],\n",
       " ['', '', '', '', '', '', '', ''],\n",
       " ['P', 'P', 'P', 'P', 'P', 'P', 'P', 'P'],\n",
       " ['R', 'H', 'B', 'Q', 'K', 'B', 'H', 'R']]"
      ]
     },
     "execution_count": 42,
     "metadata": {},
     "output_type": "execute_result"
    }
   ],
   "source": [
    "good_pieces = [\"R\",\"H\",\"B\",\"Q\",\"K\",\"B\",\"H\",\"R\"]\n",
    "pawns= [\"P\"] * 8\n",
    "empties = [\"\"] * 8\n",
    "chess = [\n",
    "    good_pieces.copy(),\n",
    "    pawns.copy(),\n",
    "    empties.copy(),\n",
    "    empties.copy(),\n",
    "    empties.copy(),\n",
    "    empties.copy(),\n",
    "    pawns.copy(),\n",
    "    good_pieces.copy(),\n",
    "]\n",
    "chess"
   ]
  },
  {
   "cell_type": "code",
   "execution_count": 43,
   "id": "75385626",
   "metadata": {},
   "outputs": [
    {
     "data": {
      "text/plain": [
       "[['R', '', 'B', 'Q', 'K', 'B', 'H', 'R'],\n",
       " ['P', 'P', 'P', 'P', 'P', 'P', 'P', 'P'],\n",
       " ['H', '', '', '', '', '', '', ''],\n",
       " ['', '', '', '', '', '', '', ''],\n",
       " ['', '', '', '', '', '', '', ''],\n",
       " ['', '', '', '', '', '', '', ''],\n",
       " ['P', 'P', 'P', 'P', 'P', 'P', 'P', 'P'],\n",
       " ['R', 'H', 'B', 'Q', 'K', 'B', 'H', 'R']]"
      ]
     },
     "execution_count": 43,
     "metadata": {},
     "output_type": "execute_result"
    }
   ],
   "source": [
    "# first move\n",
    "# chess[0][chess[0].index(\"H\")]\n",
    "chess[2][0] = chess[0][1]\n",
    "chess[0][1] = \"\"\n",
    "chess"
   ]
  },
  {
   "cell_type": "code",
   "execution_count": 45,
   "id": "91a012ff",
   "metadata": {},
   "outputs": [],
   "source": [
    "ex_list.append(my_list)"
   ]
  },
  {
   "cell_type": "code",
   "execution_count": 46,
   "id": "47a813f2",
   "metadata": {},
   "outputs": [
    {
     "data": {
      "text/plain": [
       "[1, 1.0, '1.0', [1, 2], 3, 'True', 'True', [1, 2]]"
      ]
     },
     "execution_count": 46,
     "metadata": {},
     "output_type": "execute_result"
    }
   ],
   "source": [
    "ex_list"
   ]
  },
  {
   "cell_type": "code",
   "execution_count": 47,
   "id": "5f8bbc71",
   "metadata": {},
   "outputs": [
    {
     "data": {
      "text/plain": [
       "[1, 1.0, '1.0', [1, 2], 3, 'True', 'True', [1, 2], 1, 2]"
      ]
     },
     "execution_count": 47,
     "metadata": {},
     "output_type": "execute_result"
    }
   ],
   "source": [
    "ex_list.extend(my_list)\n",
    "ex_list"
   ]
  },
  {
   "cell_type": "code",
   "execution_count": 68,
   "id": "da14c678",
   "metadata": {},
   "outputs": [
    {
     "data": {
      "text/plain": [
       "[1, 2, 4, 4, 5, 6]"
      ]
     },
     "execution_count": 68,
     "metadata": {},
     "output_type": "execute_result"
    }
   ],
   "source": [
    "l1 = [1,2,4]\n",
    "l2 = [4,5,6]\n",
    "l3 = [*l1,*l2]\n",
    "l3"
   ]
  },
  {
   "cell_type": "code",
   "execution_count": 59,
   "id": "5cd7c6b0",
   "metadata": {},
   "outputs": [],
   "source": [
    "# set\n",
    "## collection, unorderd, unindexed, no duplicates, mutable (changeable)\n",
    "# ex_set = {1,2,3,3,4,1}\n",
    "# ex_set = set((1,2,3,4))\n",
    "ex_list.pop(-3)\n",
    "ex_set = set(ex_list)\n"
   ]
  },
  {
   "cell_type": "code",
   "execution_count": 61,
   "id": "77b48041",
   "metadata": {},
   "outputs": [
    {
     "data": {
      "text/plain": [
       "{1, '1.0', 2, 3, 4, 'True'}"
      ]
     },
     "execution_count": 61,
     "metadata": {},
     "output_type": "execute_result"
    }
   ],
   "source": [
    "ex_set.add(4)\n",
    "ex_set"
   ]
  },
  {
   "cell_type": "code",
   "execution_count": 62,
   "id": "cf56683a",
   "metadata": {},
   "outputs": [
    {
     "data": {
      "text/plain": [
       "{1, 2, 3, 4, 'True'}"
      ]
     },
     "execution_count": 62,
     "metadata": {},
     "output_type": "execute_result"
    }
   ],
   "source": [
    "ex_set.remove(\"1.0\")\n",
    "ex_set"
   ]
  },
  {
   "cell_type": "code",
   "execution_count": 65,
   "id": "33ca7dcb",
   "metadata": {},
   "outputs": [
    {
     "data": {
      "text/plain": [
       "{3, 4, 'True'}"
      ]
     },
     "execution_count": 65,
     "metadata": {},
     "output_type": "execute_result"
    }
   ],
   "source": [
    "ex_set1 = {1,2,5,6}\n",
    "ex_set - ex_set1"
   ]
  },
  {
   "cell_type": "code",
   "execution_count": 69,
   "id": "cfe233ce",
   "metadata": {},
   "outputs": [
    {
     "data": {
      "text/plain": [
       "(1, 2, 3, 4)"
      ]
     },
     "execution_count": 69,
     "metadata": {},
     "output_type": "execute_result"
    }
   ],
   "source": [
    "# tuple\n",
    "## collection, ordered, unmutable, indexed\n",
    "tuple1 = (1,2,3,4)\n",
    "tuple2 = tuple((2,3,4,5,56))\n",
    "tuple1"
   ]
  },
  {
   "cell_type": "code",
   "execution_count": 70,
   "id": "5c19585c",
   "metadata": {},
   "outputs": [
    {
     "data": {
      "text/plain": [
       "3"
      ]
     },
     "execution_count": 70,
     "metadata": {},
     "output_type": "execute_result"
    }
   ],
   "source": [
    "tuple1[2]"
   ]
  },
  {
   "cell_type": "code",
   "execution_count": 72,
   "id": "7edcded3",
   "metadata": {},
   "outputs": [
    {
     "data": {
      "text/plain": [
       "{'name': 'Nate', 'age': '39', 'l': []}"
      ]
     },
     "execution_count": 72,
     "metadata": {},
     "output_type": "execute_result"
    }
   ],
   "source": [
    "# dictionaries\n",
    "## key:value pairs, indexed by key, allow duplicates, mutable\n",
    "dict1 = {}\n",
    "dict1 = dict(name=\"Nate\", age=\"39\", l=ex_list1)\n",
    "dict1"
   ]
  },
  {
   "cell_type": "code",
   "execution_count": null,
   "id": "69c679cb",
   "metadata": {},
   "outputs": [
    {
     "data": {
      "text/plain": [
       "('Nate', '39')"
      ]
     },
     "execution_count": 77,
     "metadata": {},
     "output_type": "execute_result"
    }
   ],
   "source": [
    "# access a dictionary\n",
    "# bracket notation\n",
    "dict1[\"name\"], dict1[\"age\"]"
   ]
  },
  {
   "cell_type": "code",
   "execution_count": 78,
   "id": "a18816f6",
   "metadata": {},
   "outputs": [
    {
     "data": {
      "text/plain": [
       "{'name': 'Nate', 'age': '39', 'l': [], 1: 'A number'}"
      ]
     },
     "execution_count": 78,
     "metadata": {},
     "output_type": "execute_result"
    }
   ],
   "source": [
    "dict1[1] = \"A number\"\n",
    "dict1"
   ]
  },
  {
   "cell_type": "code",
   "execution_count": 79,
   "id": "8fc09fa8",
   "metadata": {},
   "outputs": [
    {
     "data": {
      "text/plain": [
       "'A number'"
      ]
     },
     "execution_count": 79,
     "metadata": {},
     "output_type": "execute_result"
    }
   ],
   "source": [
    "dict1[1]"
   ]
  },
  {
   "cell_type": "code",
   "execution_count": 80,
   "id": "40525a47",
   "metadata": {},
   "outputs": [
    {
     "data": {
      "text/plain": [
       "'Nate'"
      ]
     },
     "execution_count": 80,
     "metadata": {},
     "output_type": "execute_result"
    }
   ],
   "source": [
    "n = \"name\"\n",
    "dict1[n]"
   ]
  },
  {
   "cell_type": "code",
   "execution_count": 85,
   "id": "98ad69a2",
   "metadata": {},
   "outputs": [
    {
     "name": "stdout",
     "output_type": "stream",
     "text": [
      "My name is nate, and I like ice cream\n"
     ]
    }
   ],
   "source": [
    "name = \"nate\"\n",
    "age = 39\n",
    "location = \"Charlotte\"\n",
    "favorite_food = input(\"What is your favorite food?\")\n",
    "person = {\n",
    "    \"name\":name,\n",
    "    \"age\": age,\n",
    "    \"location\": location,\n",
    "    \"food\": favorite_food\n",
    "}\n",
    "print(f\"My name is {person['name']}, and I like {person['food']}\")"
   ]
  },
  {
   "cell_type": "code",
   "execution_count": null,
   "id": "c10f8987",
   "metadata": {},
   "outputs": [],
   "source": []
  }
 ],
 "metadata": {
  "kernelspec": {
   "display_name": "py-class",
   "language": "python",
   "name": "python3"
  },
  "language_info": {
   "codemirror_mode": {
    "name": "ipython",
    "version": 3
   },
   "file_extension": ".py",
   "mimetype": "text/x-python",
   "name": "python",
   "nbconvert_exporter": "python",
   "pygments_lexer": "ipython3",
   "version": "3.13.5"
  }
 },
 "nbformat": 4,
 "nbformat_minor": 5
}
