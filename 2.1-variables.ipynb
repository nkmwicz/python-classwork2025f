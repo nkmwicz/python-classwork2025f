{
 "cells": [
  {
   "cell_type": "code",
   "execution_count": null,
   "id": "99f94997",
   "metadata": {},
   "outputs": [],
   "source": [
    "# Comments are not read by the Python interpreter."
   ]
  },
  {
   "cell_type": "markdown",
   "id": "e0fdcbd6",
   "metadata": {},
   "source": [
    "## Variables"
   ]
  },
  {
   "cell_type": "code",
   "execution_count": 1,
   "id": "2a6e9692",
   "metadata": {},
   "outputs": [],
   "source": [
    "var = \"My Variable\""
   ]
  },
  {
   "cell_type": "code",
   "execution_count": 2,
   "id": "a628dd98",
   "metadata": {},
   "outputs": [
    {
     "name": "stdout",
     "output_type": "stream",
     "text": [
      "My Variable\n"
     ]
    }
   ],
   "source": [
    "print(var)"
   ]
  },
  {
   "cell_type": "markdown",
   "id": "75caaae2",
   "metadata": {},
   "source": [
    "## Naming Conventions\n",
    "\n",
    "snake_case\n",
    "\n",
    "camelCase\n",
    "\n",
    "PascalCase"
   ]
  },
  {
   "cell_type": "code",
   "execution_count": 3,
   "id": "e1c5d3a4",
   "metadata": {},
   "outputs": [],
   "source": [
    "my_variable = \"A new variable\""
   ]
  },
  {
   "cell_type": "markdown",
   "id": "a6bba979",
   "metadata": {},
   "source": [
    "Basic Data Types"
   ]
  },
  {
   "cell_type": "code",
   "execution_count": 6,
   "id": "141f84c9",
   "metadata": {},
   "outputs": [
    {
     "name": "stdout",
     "output_type": "stream",
     "text": [
      "12,345a;sdjkfla;😊\n"
     ]
    },
    {
     "data": {
      "text/plain": [
       "'what our string is'"
      ]
     },
     "execution_count": 6,
     "metadata": {},
     "output_type": "execute_result"
    }
   ],
   "source": [
    "# Strings, ints, floats, boolean\n",
    "\n",
    "my_str = \"12,345a;sdjkfla;😊\"\n",
    "str2 = str(\"what our string is\")\n",
    "print(my_str)\n",
    "str2"
   ]
  },
  {
   "cell_type": "code",
   "execution_count": 8,
   "id": "2e811396",
   "metadata": {},
   "outputs": [
    {
     "name": "stdout",
     "output_type": "stream",
     "text": [
      "12 21 21\n"
     ]
    }
   ],
   "source": [
    "my_int = 12\n",
    "int2 = int(21)\n",
    "int3 = int(21.999)\n",
    "\n",
    "print(my_int,int2,int3)"
   ]
  },
  {
   "cell_type": "code",
   "execution_count": 9,
   "id": "30c53998",
   "metadata": {},
   "outputs": [
    {
     "name": "stdout",
     "output_type": "stream",
     "text": [
      "1.111 1.0\n"
     ]
    }
   ],
   "source": [
    "my_float = 1.111\n",
    "float2 = float(1)\n",
    "print(my_float, float2)"
   ]
  },
  {
   "cell_type": "code",
   "execution_count": 10,
   "id": "b4b264e0",
   "metadata": {},
   "outputs": [
    {
     "data": {
      "text/plain": [
       "'1.111'"
      ]
     },
     "execution_count": 10,
     "metadata": {},
     "output_type": "execute_result"
    }
   ],
   "source": [
    "str(my_float)"
   ]
  },
  {
   "cell_type": "code",
   "execution_count": 11,
   "id": "916f7754",
   "metadata": {},
   "outputs": [
    {
     "ename": "ValueError",
     "evalue": "could not convert string to float: '12,345a;sdjkfla;😊'",
     "output_type": "error",
     "traceback": [
      "\u001b[31m---------------------------------------------------------------------------\u001b[39m",
      "\u001b[31mValueError\u001b[39m                                Traceback (most recent call last)",
      "\u001b[36mCell\u001b[39m\u001b[36m \u001b[39m\u001b[32mIn[11]\u001b[39m\u001b[32m, line 1\u001b[39m\n\u001b[32m----> \u001b[39m\u001b[32m1\u001b[39m \u001b[38;5;28mfloat\u001b[39m(my_str)\n",
      "\u001b[31mValueError\u001b[39m: could not convert string to float: '12,345a;sdjkfla;😊'"
     ]
    }
   ],
   "source": [
    "float(my_str)"
   ]
  },
  {
   "cell_type": "code",
   "execution_count": 12,
   "id": "57fa80c2",
   "metadata": {},
   "outputs": [
    {
     "data": {
      "text/plain": [
       "(True, True)"
      ]
     },
     "execution_count": 12,
     "metadata": {},
     "output_type": "execute_result"
    }
   ],
   "source": [
    "# booleans\n",
    "boolean = True\n",
    "my_bool = bool(my_str)\n",
    "boolean, my_bool"
   ]
  },
  {
   "cell_type": "code",
   "execution_count": 13,
   "id": "d67e3962",
   "metadata": {},
   "outputs": [
    {
     "data": {
      "text/plain": [
       "bool"
      ]
     },
     "execution_count": 13,
     "metadata": {},
     "output_type": "execute_result"
    }
   ],
   "source": [
    "type(boolean)"
   ]
  },
  {
   "cell_type": "code",
   "execution_count": 14,
   "id": "29d6cd1b",
   "metadata": {},
   "outputs": [
    {
     "data": {
      "text/plain": [
       "str"
      ]
     },
     "execution_count": 14,
     "metadata": {},
     "output_type": "execute_result"
    }
   ],
   "source": [
    "type(my_str)"
   ]
  },
  {
   "cell_type": "code",
   "execution_count": 17,
   "id": "f9d5cd39",
   "metadata": {},
   "outputs": [
    {
     "data": {
      "text/plain": [
       "False"
      ]
     },
     "execution_count": 17,
     "metadata": {},
     "output_type": "execute_result"
    }
   ],
   "source": [
    "is_greater_than_twelve = my_int > 12\n",
    "is_greater_than_twelve"
   ]
  },
  {
   "cell_type": "code",
   "execution_count": 21,
   "id": "b1b811f2",
   "metadata": {},
   "outputs": [
    {
     "name": "stdout",
     "output_type": "stream",
     "text": [
      "12,345A;SDJKFLA;😊 What our string is What Our String Is 1\n"
     ]
    }
   ],
   "source": [
    "a = my_str.upper()\n",
    "b = str2.capitalize()\n",
    "c = str2.title()\n",
    "d = str2.count(\"a\")\n",
    "\n",
    "print(a,b,c,d)"
   ]
  },
  {
   "cell_type": "code",
   "execution_count": 22,
   "id": "559647de",
   "metadata": {},
   "outputs": [
    {
     "data": {
      "text/plain": [
       "18"
      ]
     },
     "execution_count": 22,
     "metadata": {},
     "output_type": "execute_result"
    }
   ],
   "source": [
    "len(str2)"
   ]
  },
  {
   "cell_type": "code",
   "execution_count": 26,
   "id": "06de5310",
   "metadata": {},
   "outputs": [
    {
     "data": {
      "text/plain": [
       "13"
      ]
     },
     "execution_count": 26,
     "metadata": {},
     "output_type": "execute_result"
    }
   ],
   "source": [
    "int(my_float) + my_int"
   ]
  },
  {
   "cell_type": "code",
   "execution_count": 27,
   "id": "7b35d2a6",
   "metadata": {},
   "outputs": [
    {
     "data": {
      "text/plain": [
       "8"
      ]
     },
     "execution_count": 27,
     "metadata": {},
     "output_type": "execute_result"
    }
   ],
   "source": [
    "4*2"
   ]
  },
  {
   "cell_type": "code",
   "execution_count": 28,
   "id": "befae462",
   "metadata": {},
   "outputs": [
    {
     "data": {
      "text/plain": [
       "2.0"
      ]
     },
     "execution_count": 28,
     "metadata": {},
     "output_type": "execute_result"
    }
   ],
   "source": [
    "4/2"
   ]
  },
  {
   "cell_type": "code",
   "execution_count": 29,
   "id": "81e6af4a",
   "metadata": {},
   "outputs": [
    {
     "data": {
      "text/plain": [
       "16"
      ]
     },
     "execution_count": 29,
     "metadata": {},
     "output_type": "execute_result"
    }
   ],
   "source": [
    "4**2"
   ]
  },
  {
   "cell_type": "code",
   "execution_count": 39,
   "id": "3af58e0d",
   "metadata": {},
   "outputs": [
    {
     "data": {
      "text/plain": [
       "124"
      ]
     },
     "execution_count": 39,
     "metadata": {},
     "output_type": "execute_result"
    }
   ],
   "source": [
    "import math\n",
    "neg = 123.22\n",
    "abs(neg)\n",
    "math.floor(neg)\n",
    "math.ceil(neg)"
   ]
  },
  {
   "cell_type": "code",
   "execution_count": null,
   "id": "0eb47721",
   "metadata": {},
   "outputs": [],
   "source": []
  }
 ],
 "metadata": {
  "kernelspec": {
   "display_name": "py-class",
   "language": "python",
   "name": "python3"
  },
  "language_info": {
   "codemirror_mode": {
    "name": "ipython",
    "version": 3
   },
   "file_extension": ".py",
   "mimetype": "text/x-python",
   "name": "python",
   "nbconvert_exporter": "python",
   "pygments_lexer": "ipython3",
   "version": "3.13.5"
  }
 },
 "nbformat": 4,
 "nbformat_minor": 5
}
