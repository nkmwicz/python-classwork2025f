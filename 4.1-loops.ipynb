{
 "cells": [
  {
   "cell_type": "markdown",
   "id": "177afcae",
   "metadata": {},
   "source": [
    "- while loops\n",
    "- for loops\n",
    "- range()\n",
    "- break, continue, pass\n",
    "- nested loops\n",
    "- generative loops (aka, list comprehensions)"
   ]
  },
  {
   "cell_type": "code",
   "execution_count": 2,
   "id": "9cb9ee73",
   "metadata": {},
   "outputs": [
    {
     "name": "stdout",
     "output_type": "stream",
     "text": [
      "[0, 1, 2, 3, 4, 5, 6, 7, 8, 9, 10, 11, 12, 13, 14, 15, 16, 17, 18, 19, 20, 21, 22, 23, 24]\n"
     ]
    }
   ],
   "source": [
    "# for loops\n",
    "l = []\n",
    "while len(l) < 25:\n",
    "    if not l:\n",
    "        l.append(0)\n",
    "        continue  # tells python to move to next iteration.\n",
    "    l.append(l[-1]+1)\n",
    "print(l)"
   ]
  },
  {
   "cell_type": "code",
   "execution_count": 6,
   "id": "64474365",
   "metadata": {},
   "outputs": [
    {
     "name": "stdout",
     "output_type": "stream",
     "text": [
      "25\n"
     ]
    }
   ],
   "source": [
    "counter = 0\n",
    "while counter < 25:\n",
    "\n",
    "    counter +=1\n",
    "\n",
    "\n",
    "print(counter)"
   ]
  },
  {
   "cell_type": "code",
   "execution_count": null,
   "id": "7b2343c7",
   "metadata": {},
   "outputs": [],
   "source": [
    "counter = 0\n",
    "while True:\n",
    "    if counter >= 25:\n",
    "        break\n",
    "    counter += 1"
   ]
  },
  {
   "cell_type": "code",
   "execution_count": 7,
   "id": "20e268d8",
   "metadata": {},
   "outputs": [
    {
     "name": "stdout",
     "output_type": "stream",
     "text": [
      "I\n",
      "'\n",
      "m\n",
      " \n",
      "a\n",
      " \n",
      "s\n",
      "t\n",
      "r\n",
      "i\n",
      "n\n",
      "g\n"
     ]
    }
   ],
   "source": [
    "# for loops / range()\n",
    "# iterable = all collections\n",
    "string =\"I'm a string\"\n",
    "for char in string:\n",
    "    print(char)"
   ]
  },
  {
   "cell_type": "code",
   "execution_count": null,
   "id": "c5df5c86",
   "metadata": {},
   "outputs": [
    {
     "name": "stdout",
     "output_type": "stream",
     "text": [
      "0\n",
      "2\n",
      "4\n",
      "6\n",
      "8\n",
      "10\n",
      "12\n",
      "14\n",
      "16\n",
      "18\n",
      "20\n",
      "22\n",
      "24\n"
     ]
    }
   ],
   "source": [
    "for num in range(len(l)): # (tot), (start, tot), (start, tot, step)\n",
    "    if num % 2 != 0:\n",
    "        continue\n",
    "        print(somehi) # unreachable code.\n",
    "    if num == 19:\n",
    "        break\n",
    "    print(num)"
   ]
  },
  {
   "cell_type": "code",
   "execution_count": 19,
   "id": "a1b0e0cd",
   "metadata": {},
   "outputs": [
    {
     "name": "stdout",
     "output_type": "stream",
     "text": [
      "{'Messi': [[0, 0], [0, 0, 1, 0, 0, 1, 0], [0, 1, 0, 0, 1], [1, 0, 0, 0], [], [1, 1, 0, 1, 1], [1, 1], [1, 0], [0, 1, 1, 1, 1], [0, 1, 1, 1, 0, 1], [1, 0, 0, 1, 1, 0], [1, 0, 0, 0, 1, 0], [1], [0, 0, 1], [0, 1, 1, 0, 1], [], [0], [0, 0, 0], [0, 0, 1, 0, 0, 1], [1, 1], [0, 1, 0, 1, 0, 0, 0], [0, 1, 0, 0, 1], [0, 0, 0, 0], [0, 0, 1, 1, 0], [0, 1], [1], [1, 1, 0], [0, 0], [0, 0, 0, 1, 1, 0], [1, 1, 0, 0, 0, 1], [0], [1, 0], [], [0, 1, 0, 1, 0, 1, 0], [1, 0, 1], [0, 1, 1, 1, 0, 1], [0], [1, 1, 0, 1, 1], [1, 1], [0, 0, 1, 1, 1, 0, 1], [0, 0, 0], [1, 0, 0, 0, 0, 1], [], [0, 0, 0, 0, 0], [0], [1, 1, 1, 1], [0, 0, 1, 1, 0], [0, 0, 0], [1, 0, 1, 0, 0], [1, 0, 0, 1, 1, 1, 1], [0, 1, 1, 0, 0], [0, 1, 1, 0, 0], [0, 1], [1, 0], [0, 0, 0, 1], [0, 1, 0, 1, 0], [0, 1, 1, 0, 1, 1], [1, 0, 1, 0, 0, 0, 0], [0, 0, 1, 1, 0, 0, 0], [0, 0, 1, 1], [0, 1, 1, 1, 1, 0, 0], [1, 1, 0], [0, 1, 1], [0, 0, 1, 1, 1], [0, 0], [0, 0, 0, 1], [0, 1], [0, 0, 0, 1], [0, 1, 0, 0, 0], [1, 0, 1, 0], [0, 1], [1, 1, 1, 0, 0, 0, 0], [0, 0, 1, 1, 1], [0], [1, 0, 1, 1, 0, 1], [0, 0, 1, 0, 0, 1], [], [1, 1, 0, 1, 0, 1, 1], [1, 0, 0], [0, 0, 1, 0], [1, 0, 1, 0, 0], [0], [0], [1, 1, 1, 1], [1, 1, 1, 0, 1], [0, 0, 1], [0, 0, 1, 1, 0, 1], [0, 0, 0, 0, 1, 0, 0], [0, 1, 0, 0, 0, 1, 1], [0, 1], [1, 1, 0], [0, 1, 0, 0, 1], [1, 1, 1], [1], [0, 0, 0, 0, 0, 1], [0, 0, 0, 0]], 'Mbappe': [[0, 0, 1, 0], [], [], [1, 1, 0, 0, 0, 1, 1], [], [0, 0, 0, 1, 0], [0, 0, 1, 1, 0], [0], [], [1, 1, 0, 1], [0, 1, 0, 1, 1, 1], [0, 0, 0], [0, 1, 1, 1], [0, 1, 1, 1, 1], [1], [1, 1, 1, 0, 0], [0, 0, 0, 0, 1, 0, 1], [1, 1, 1, 0, 1, 1, 0], [1, 1, 0, 1, 1, 1, 1], [1, 0, 1, 1, 1, 0], [1, 0, 1, 0, 1, 0, 1], [1, 0, 0, 1], [1, 0, 0, 1, 0], [1, 0, 0], [0, 1, 0, 0], [1], [0, 0], [1], [], [1, 0, 0, 0, 0, 0], [0, 0], [1, 1], [1, 1], [0, 1, 1, 1, 0], [1, 1, 1, 0], [0, 0, 1, 1], [0], [1, 1], [0, 1, 0, 1], [1, 0, 0], [], [0], [0, 0, 1, 1], [1, 0, 0, 1], [1, 0, 1, 0, 1, 0, 1], [1, 0, 0, 1], [1], [0, 0, 0, 0], [0, 1, 1, 0, 1, 1, 0], [0, 0, 1, 1, 1], [0, 1, 0, 1, 0, 1, 0], [1, 0, 1, 1, 0, 1], [0, 0, 0, 0, 1, 1], [0, 1, 0, 1, 1, 0], [0, 1, 0, 1], [], [0, 0], [1, 0, 0]], 'Ronaldo': [[], [1, 1, 1, 1, 1, 0], [0, 0, 1, 1, 1, 0], [0, 0, 1, 1, 1, 1, 0], [1, 0, 0], [0, 0], [], [1, 0, 1, 0], [0, 0, 0, 1, 0], [0, 0, 1, 0, 1, 0], [0], [0, 1, 0], [0, 1], [0, 0, 0, 0, 0, 1, 1], [0, 0], [0, 1, 0, 1], [1, 1, 0, 0], [0, 1, 1], [1, 0, 1, 0, 0], [1, 0], [0, 1, 1, 1, 1], [0, 0, 0, 1, 0], [], [1, 0, 0, 0, 0], [], [1, 0, 0, 1, 0, 1], [0], [0, 1, 1, 1], [0, 0, 0, 0, 1, 1, 1], [0, 0], [0], [1], [1, 1, 0, 0], [], [], [1, 0], [], [0]], 'Carlos': [[1, 0, 1, 1, 1, 0, 0], [0, 1, 1, 0, 0, 0, 0], [0, 1, 0, 0], [1, 1], [1, 0], [0, 1, 1, 0, 1, 0, 0], [1, 1, 0, 0, 1, 1], [0, 0, 1, 1, 0, 0], [], [1, 0, 0, 0], [1, 1, 1], [1, 0, 0], [1, 1, 0, 0, 1], [1, 0, 1], [0], [], [1, 0]]}\n"
     ]
    }
   ],
   "source": [
    "# nested loops\n",
    "import random\n",
    "players = {\"Messi\": [], \"Mbappe\": [], \"Ronaldo\": [], \"Carlos\": []}\n",
    "\n",
    "random.seed(22)\n",
    "for player in players:\n",
    "    tot_games = round(random.random() *100)\n",
    "    for game in range(tot_games):\n",
    "        game_list = []\n",
    "        tot_shots = random.randint(0,7)\n",
    "        for shot in range(tot_shots):\n",
    "            game_list.append(random.randint(0,1))\n",
    "        players[player].append(game_list)\n",
    "print(players)\n"
   ]
  },
  {
   "cell_type": "code",
   "execution_count": null,
   "id": "4dc1599c",
   "metadata": {},
   "outputs": [
    {
     "name": "stdout",
     "output_type": "stream",
     "text": [
      "{'Messi': {'games': 0, 'shots': 0, 'goals': 0}, 'Mbappe': {'games': 0, 'shots': 0, 'goals': 0}, 'Ronaldo': {'games': 0, 'shots': 0, 'goals': 0}, 'Carlos': {'games': 0, 'shots': 0, 'goals': 0}}\n"
     ]
    }
   ],
   "source": [
    "# list_generator = [num for num in range(10)]\n",
    "player_stats = {\n",
    "    player: {\"games\":0, \"shots\":0, \"goals\":0} for player in players\n",
    "    }\n",
    "print(player_stats)"
   ]
  },
  {
   "cell_type": "code",
   "execution_count": 28,
   "id": "d3dba202",
   "metadata": {},
   "outputs": [
    {
     "name": "stdout",
     "output_type": "stream",
     "text": [
      "{'Messi': {'games': 96, 'shots': 375, 'goals': 168, 'goals/game': 1.75}, 'Mbappe': {'games': 58, 'shots': 210, 'goals': 106, 'goals/game': 1.8275862068965518}, 'Ronaldo': {'games': 38, 'shots': 116, 'goals': 50, 'goals/game': 1.3157894736842106}, 'Carlos': {'games': 17, 'shots': 62, 'goals': 30, 'goals/game': 1.7647058823529411}}\n"
     ]
    }
   ],
   "source": [
    "for player, l in players.items():\n",
    "    for game in l:\n",
    "        player_stats[player][\"shots\"] += len(game)\n",
    "        player_stats[player][\"goals\"] += sum(game)\n",
    "        player_stats[player][\"games\"] += 1\n",
    "    player_stats[player][\"goals/game\"] = player_stats[player][\"goals\"] / player_stats[player][\"games\"]\n",
    "\n",
    "print(player_stats)"
   ]
  },
  {
   "cell_type": "code",
   "execution_count": 29,
   "id": "48d3b498",
   "metadata": {},
   "outputs": [
    {
     "name": "stdout",
     "output_type": "stream",
     "text": [
      "Messi\n",
      "{'games': 96, 'shots': 375, 'goals': 168, 'goals/game': 1.75}\n",
      "Mbappe\n",
      "{'games': 58, 'shots': 210, 'goals': 106, 'goals/game': 1.8275862068965518}\n",
      "Ronaldo\n",
      "{'games': 38, 'shots': 116, 'goals': 50, 'goals/game': 1.3157894736842106}\n",
      "Carlos\n",
      "{'games': 17, 'shots': 62, 'goals': 30, 'goals/game': 1.7647058823529411}\n"
     ]
    }
   ],
   "source": [
    "for player in player_stats:\n",
    "    print(player)\n",
    "    print(player_stats[player])"
   ]
  },
  {
   "cell_type": "code",
   "execution_count": null,
   "id": "34256504",
   "metadata": {},
   "outputs": [],
   "source": []
  }
 ],
 "metadata": {
  "kernelspec": {
   "display_name": "py-class",
   "language": "python",
   "name": "python3"
  },
  "language_info": {
   "codemirror_mode": {
    "name": "ipython",
    "version": 3
   },
   "file_extension": ".py",
   "mimetype": "text/x-python",
   "name": "python",
   "nbconvert_exporter": "python",
   "pygments_lexer": "ipython3",
   "version": "3.13.5"
  }
 },
 "nbformat": 4,
 "nbformat_minor": 5
}
