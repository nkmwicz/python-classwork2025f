{
 "cells": [
  {
   "cell_type": "markdown",
   "id": "96c6f4cf",
   "metadata": {},
   "source": [
    "Type Hinting\n",
    "\n",
    "Boolean operations\n",
    "\n",
    "Comparisons\n",
    "\n",
    "Truthy/Falsy\n",
    "\n",
    "in, or, not, and\n",
    "\n",
    "if statements\n",
    "\n",
    "nested ifs\n",
    "\n",
    "one-line ifs \n",
    "\n",
    "validation\n",
    "\n",
    "try-except"
   ]
  },
  {
   "cell_type": "code",
   "execution_count": null,
   "id": "bcc81bb7",
   "metadata": {},
   "outputs": [
    {
     "ename": "ValueError",
     "evalue": "invalid literal for int() with base 10: 'users are stupid'",
     "output_type": "error",
     "traceback": [
      "\u001b[31m---------------------------------------------------------------------------\u001b[39m",
      "\u001b[31mValueError\u001b[39m                                Traceback (most recent call last)",
      "\u001b[36mCell\u001b[39m\u001b[36m \u001b[39m\u001b[32mIn[5]\u001b[39m\u001b[32m, line 3\u001b[39m\n\u001b[32m      1\u001b[39m \u001b[38;5;66;03m# simple type hinting (str, float, int, bool)\u001b[39;00m\n\u001b[32m      2\u001b[39m \u001b[38;5;28;01mfrom\u001b[39;00m\u001b[38;5;250m \u001b[39m\u001b[34;01mtyping\u001b[39;00m\u001b[38;5;250m \u001b[39m\u001b[38;5;28;01mimport\u001b[39;00m Union\n\u001b[32m----> \u001b[39m\u001b[32m3\u001b[39m age:Union[\u001b[38;5;28mstr\u001b[39m,\u001b[38;5;28mint\u001b[39m] = \u001b[38;5;28mint\u001b[39m(\u001b[38;5;28minput\u001b[39m(\u001b[33m\"\u001b[39m\u001b[33mWhat is your age?\u001b[39m\u001b[33m\"\u001b[39m))\n\u001b[32m      4\u001b[39m \u001b[38;5;28mprint\u001b[39m(\u001b[38;5;28mint\u001b[39m(age))\n\u001b[32m      5\u001b[39m string:\u001b[38;5;28mstr\u001b[39m = \u001b[33m\"\u001b[39m\u001b[33mit\u001b[39m\u001b[33m'\u001b[39m\u001b[33ms in quotes\u001b[39m\u001b[33m\"\u001b[39m\n",
      "\u001b[31mValueError\u001b[39m: invalid literal for int() with base 10: 'users are stupid'"
     ]
    }
   ],
   "source": [
    "# simple type hinting (str, float, int, bool)\n",
    "import typing\n",
    "age:typing.Union[str,int] = int(input(\"What is your age?\"))\n",
    "print(int(age))\n",
    "string:str = \"it's in quotes\"\n",
    "integer:int = 9\n",
    "fl:float = 9.0\n",
    "is_true:bool = True\n",
    "\n",
    "type(string)"
   ]
  },
  {
   "cell_type": "code",
   "execution_count": 12,
   "id": "6f3bd0c7",
   "metadata": {},
   "outputs": [
    {
     "name": "stdout",
     "output_type": "stream",
     "text": [
      "something\n"
     ]
    }
   ],
   "source": [
    "# complex types must be imported\n",
    "from typing import List, Tuple, Set, Dict, TypedDict\n",
    "list1: List[int] = [1,2,34]\n",
    "set1:Set[int] = {1,23,23,23,4}\n",
    "tup1:Tuple[int] = (1,2,3,4)\n",
    "d1:Dict[str,str] = {\"key\": 'Value'}\n",
    "\n",
    "class userTypes(TypedDict):\n",
    "    name: str\n",
    "    age: int\n",
    "    address: str\n",
    "\n",
    "user: userTypes = {\n",
    "    \"name\": \"Nate\",\n",
    "    \"age\": 39,\n",
    "    \"address\": \"something\"\n",
    "}\n",
    "\n",
    "print(user['address'])"
   ]
  },
  {
   "cell_type": "code",
   "execution_count": 15,
   "id": "ce5c3dc7",
   "metadata": {},
   "outputs": [
    {
     "data": {
      "text/plain": [
       "True"
      ]
     },
     "execution_count": 15,
     "metadata": {},
     "output_type": "execute_result"
    }
   ],
   "source": [
    "# comparisons ==, >, <, >=, <=, !=\n",
    "x = 10\n",
    "y = 11\n",
    "b = x != y\n",
    "b"
   ]
  },
  {
   "cell_type": "code",
   "execution_count": 23,
   "id": "7d557b92",
   "metadata": {},
   "outputs": [
    {
     "name": "stdout",
     "output_type": "stream",
     "text": [
      "nate\n",
      "name is not Nate\n"
     ]
    }
   ],
   "source": [
    "# Truthy / Falsy\n",
    "# everything in python has a boolean representation.\n",
    "# falsy = 0, 0.0, [], {}, {}, (), None, \"\"\n",
    "# if statement\n",
    "name:str = \"nate\"\n",
    "something=False\n",
    "somethingelse = False\n",
    "if name:\n",
    "    print(name)\n",
    "    if name == \"Nate\":\n",
    "        print(\"Nate is the name\")\n",
    "    else:\n",
    "        print(\"name is not Nate\")\n",
    "elif not name:\n",
    "    name = input(\"What is your name?\")\n",
    "else:\n",
    "    print(\"neither are True\")\n"
   ]
  },
  {
   "cell_type": "code",
   "execution_count": 20,
   "id": "42664252",
   "metadata": {},
   "outputs": [
    {
     "data": {
      "text/plain": [
       "'nate'"
      ]
     },
     "execution_count": 20,
     "metadata": {},
     "output_type": "execute_result"
    }
   ],
   "source": [
    "name"
   ]
  },
  {
   "cell_type": "code",
   "execution_count": 24,
   "id": "73744a52",
   "metadata": {},
   "outputs": [
    {
     "name": "stdout",
     "output_type": "stream",
     "text": [
      "neither work\n"
     ]
    }
   ],
   "source": [
    "# in, or, not, and\n",
    "\n",
    "x = 10\n",
    "y = 11\n",
    "\n",
    "if x > y or x + y == 11:\n",
    "    print(\"something\")\n",
    "else:\n",
    "    print(\"neither work\")"
   ]
  },
  {
   "cell_type": "code",
   "execution_count": 25,
   "id": "63ba6654",
   "metadata": {},
   "outputs": [
    {
     "name": "stdout",
     "output_type": "stream",
     "text": [
      "We are happy\n"
     ]
    }
   ],
   "source": [
    "if x < y and x+y==21:\n",
    "    print(\"We are happy\")\n",
    "else:\n",
    "    print(\"both are not true\")"
   ]
  },
  {
   "cell_type": "code",
   "execution_count": 30,
   "id": "a37376ae",
   "metadata": {},
   "outputs": [
    {
     "name": "stdout",
     "output_type": "stream",
     "text": [
      "both truish\n"
     ]
    }
   ],
   "source": [
    "if (y==11 or y<x) and x == 10 :\n",
    "    print(\"both truish\")"
   ]
  },
  {
   "cell_type": "code",
   "execution_count": 32,
   "id": "0654f918",
   "metadata": {},
   "outputs": [
    {
     "name": "stdout",
     "output_type": "stream",
     "text": [
      "42 exists\n",
      "1 also exists\n"
     ]
    }
   ],
   "source": [
    "l1:List[int] = [1,2,34,42]\n",
    "\n",
    "if 42 in l1:\n",
    "    print(\"42 exists\")\n",
    "    if 1 in l1:\n",
    "        print(\"1 also exists\")\n",
    "elif 1 in l1:\n",
    "    print(\"only 1 exists\")\n",
    "else:\n",
    "    print(\"none exists\")"
   ]
  },
  {
   "cell_type": "code",
   "execution_count": 39,
   "id": "f16d9b7c",
   "metadata": {},
   "outputs": [
    {
     "name": "stdout",
     "output_type": "stream",
     "text": [
      "num of special thing: 999\n"
     ]
    },
    {
     "data": {
      "text/plain": [
       "999"
      ]
     },
     "execution_count": 39,
     "metadata": {},
     "output_type": "execute_result"
    }
   ],
   "source": [
    "colors = {\n",
    "    \"red\": 1,\n",
    "    \"blue\": 2,\n",
    "    \"green\": 3,\n",
    "    \"yellow\": 4,\n",
    "}\n",
    "special_thing = \"grey\"\n",
    "print(f\"num of special thing: {colors.get(special_thing, 999)}\")\n",
    "special_thing = colors.get(special_thing, 999)\n",
    "\n",
    "# if special_thing == \"blue\":\n",
    "#     special_thing = 2\n",
    "# elif special_thing == \"red\":\n",
    "#     special_thing = 1\n",
    "# elif special_thing == \"green\":\n",
    "#     special_thing = 3\n",
    "# elif special_thing == \"yellow\":\n",
    "#     special_thing = 4\n",
    "# else:\n",
    "#     print(\"no special thing\")\n",
    "\n",
    "special_thing"
   ]
  },
  {
   "cell_type": "code",
   "execution_count": 46,
   "id": "17abe4b3",
   "metadata": {},
   "outputs": [
    {
     "name": "stdout",
     "output_type": "stream",
     "text": [
      "age must be a number, please try again\n"
     ]
    }
   ],
   "source": [
    "from typing import Union\n",
    "class User2Types(TypedDict):\n",
    "    name: str\n",
    "    age: float\n",
    "    username: str\n",
    "    \n",
    "name:str = input(\"What's your name\")\n",
    "age:Union[str, int] = input(\"What's your age\")\n",
    "try:\n",
    "    if not name.isalpha():\n",
    "        raise Exception\n",
    "    age = float(age)\n",
    "    username:str = input(\"Choose a username\")\n",
    "\n",
    "    u2 = {\n",
    "        \"name\": name,\n",
    "        \"age\": age,\n",
    "        \"username\": username,\n",
    "        \"is_of_age\": age > 18,\n",
    "    }\n",
    "    print(u2)\n",
    "except Exception as e:\n",
    "    print(\"age must be a number, please try again\")\n"
   ]
  },
  {
   "cell_type": "code",
   "execution_count": null,
   "id": "27206706",
   "metadata": {},
   "outputs": [],
   "source": []
  }
 ],
 "metadata": {
  "kernelspec": {
   "display_name": "py-class",
   "language": "python",
   "name": "python3"
  },
  "language_info": {
   "codemirror_mode": {
    "name": "ipython",
    "version": 3
   },
   "file_extension": ".py",
   "mimetype": "text/x-python",
   "name": "python",
   "nbconvert_exporter": "python",
   "pygments_lexer": "ipython3",
   "version": "3.13.5"
  }
 },
 "nbformat": 4,
 "nbformat_minor": 5
}
