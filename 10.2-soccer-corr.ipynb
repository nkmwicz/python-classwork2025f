{
 "cells": [
  {
   "cell_type": "code",
   "execution_count": 1,
   "id": "7db2c6a6",
   "metadata": {},
   "outputs": [
    {
     "data": {
      "text/html": [
       "<div>\n",
       "<style scoped>\n",
       "    .dataframe tbody tr th:only-of-type {\n",
       "        vertical-align: middle;\n",
       "    }\n",
       "\n",
       "    .dataframe tbody tr th {\n",
       "        vertical-align: top;\n",
       "    }\n",
       "\n",
       "    .dataframe thead th {\n",
       "        text-align: right;\n",
       "    }\n",
       "</style>\n",
       "<table border=\"1\" class=\"dataframe\">\n",
       "  <thead>\n",
       "    <tr style=\"text-align: right;\">\n",
       "      <th></th>\n",
       "      <th>eventId</th>\n",
       "      <th>subEventName</th>\n",
       "      <th>tags</th>\n",
       "      <th>playerId</th>\n",
       "      <th>matchId</th>\n",
       "      <th>eventName</th>\n",
       "      <th>teamId</th>\n",
       "      <th>matchPeriod</th>\n",
       "      <th>eventSec</th>\n",
       "      <th>subEventId</th>\n",
       "      <th>id</th>\n",
       "      <th>x1</th>\n",
       "      <th>y1</th>\n",
       "      <th>x2</th>\n",
       "      <th>y2</th>\n",
       "    </tr>\n",
       "  </thead>\n",
       "  <tbody>\n",
       "    <tr>\n",
       "      <th>0</th>\n",
       "      <td>8</td>\n",
       "      <td>Simple pass</td>\n",
       "      <td>['Accurate']</td>\n",
       "      <td>Mohammad Ibrahim Al Sahlawi</td>\n",
       "      <td>Russia - Saudi Arabia, 5 - 0</td>\n",
       "      <td>Pass</td>\n",
       "      <td>Saudi Arabia</td>\n",
       "      <td>1H</td>\n",
       "      <td>1.656214</td>\n",
       "      <td>Simple pass</td>\n",
       "      <td>258612104</td>\n",
       "      <td>50</td>\n",
       "      <td>50</td>\n",
       "      <td>35.0</td>\n",
       "      <td>53.0</td>\n",
       "    </tr>\n",
       "    <tr>\n",
       "      <th>1</th>\n",
       "      <td>8</td>\n",
       "      <td>High pass</td>\n",
       "      <td>['Accurate']</td>\n",
       "      <td>Abdullah Ibrahim Otayf</td>\n",
       "      <td>Russia - Saudi Arabia, 5 - 0</td>\n",
       "      <td>Pass</td>\n",
       "      <td>Saudi Arabia</td>\n",
       "      <td>1H</td>\n",
       "      <td>4.487814</td>\n",
       "      <td>High pass</td>\n",
       "      <td>258612106</td>\n",
       "      <td>35</td>\n",
       "      <td>53</td>\n",
       "      <td>75.0</td>\n",
       "      <td>19.0</td>\n",
       "    </tr>\n",
       "    <tr>\n",
       "      <th>2</th>\n",
       "      <td>1</td>\n",
       "      <td>Air duel</td>\n",
       "      <td>['Won', 'Accurate']</td>\n",
       "      <td>Ilya Kutepov</td>\n",
       "      <td>Russia - Saudi Arabia, 5 - 0</td>\n",
       "      <td>Duel</td>\n",
       "      <td>Russia</td>\n",
       "      <td>1H</td>\n",
       "      <td>5.937411</td>\n",
       "      <td>Air duel</td>\n",
       "      <td>258612077</td>\n",
       "      <td>25</td>\n",
       "      <td>81</td>\n",
       "      <td>37.0</td>\n",
       "      <td>83.0</td>\n",
       "    </tr>\n",
       "    <tr>\n",
       "      <th>3</th>\n",
       "      <td>1</td>\n",
       "      <td>Air duel</td>\n",
       "      <td>['Lost', 'Not accurate']</td>\n",
       "      <td>Yasir Gharsan Al Shahrani</td>\n",
       "      <td>Russia - Saudi Arabia, 5 - 0</td>\n",
       "      <td>Duel</td>\n",
       "      <td>Saudi Arabia</td>\n",
       "      <td>1H</td>\n",
       "      <td>6.406961</td>\n",
       "      <td>Air duel</td>\n",
       "      <td>258612112</td>\n",
       "      <td>75</td>\n",
       "      <td>19</td>\n",
       "      <td>63.0</td>\n",
       "      <td>17.0</td>\n",
       "    </tr>\n",
       "    <tr>\n",
       "      <th>4</th>\n",
       "      <td>8</td>\n",
       "      <td>Simple pass</td>\n",
       "      <td>['Accurate']</td>\n",
       "      <td>Salman Mohammed Al Faraj</td>\n",
       "      <td>Russia - Saudi Arabia, 5 - 0</td>\n",
       "      <td>Pass</td>\n",
       "      <td>Saudi Arabia</td>\n",
       "      <td>1H</td>\n",
       "      <td>8.562167</td>\n",
       "      <td>Simple pass</td>\n",
       "      <td>258612110</td>\n",
       "      <td>63</td>\n",
       "      <td>17</td>\n",
       "      <td>71.0</td>\n",
       "      <td>15.0</td>\n",
       "    </tr>\n",
       "  </tbody>\n",
       "</table>\n",
       "</div>"
      ],
      "text/plain": [
       "   eventId subEventName                      tags  \\\n",
       "0        8  Simple pass              ['Accurate']   \n",
       "1        8    High pass              ['Accurate']   \n",
       "2        1     Air duel       ['Won', 'Accurate']   \n",
       "3        1     Air duel  ['Lost', 'Not accurate']   \n",
       "4        8  Simple pass              ['Accurate']   \n",
       "\n",
       "                      playerId                       matchId eventName  \\\n",
       "0  Mohammad Ibrahim Al Sahlawi  Russia - Saudi Arabia, 5 - 0      Pass   \n",
       "1       Abdullah Ibrahim Otayf  Russia - Saudi Arabia, 5 - 0      Pass   \n",
       "2                 Ilya Kutepov  Russia - Saudi Arabia, 5 - 0      Duel   \n",
       "3    Yasir Gharsan Al Shahrani  Russia - Saudi Arabia, 5 - 0      Duel   \n",
       "4     Salman Mohammed Al Faraj  Russia - Saudi Arabia, 5 - 0      Pass   \n",
       "\n",
       "         teamId matchPeriod  eventSec   subEventId         id  x1  y1    x2  \\\n",
       "0  Saudi Arabia          1H  1.656214  Simple pass  258612104  50  50  35.0   \n",
       "1  Saudi Arabia          1H  4.487814    High pass  258612106  35  53  75.0   \n",
       "2        Russia          1H  5.937411     Air duel  258612077  25  81  37.0   \n",
       "3  Saudi Arabia          1H  6.406961     Air duel  258612112  75  19  63.0   \n",
       "4  Saudi Arabia          1H  8.562167  Simple pass  258612110  63  17  71.0   \n",
       "\n",
       "     y2  \n",
       "0  53.0  \n",
       "1  19.0  \n",
       "2  83.0  \n",
       "3  17.0  \n",
       "4  15.0  "
      ]
     },
     "execution_count": 1,
     "metadata": {},
     "output_type": "execute_result"
    }
   ],
   "source": [
    "import pandas as pd, matplotlib.pyplot as plt, scipy.stats as stats, seaborn as sns, ast\n",
    "\n",
    "url = \"https://raw.githubusercontent.com/nkmwicz/worldcup2018data/refs/heads/main/cleaned_events_world_cup2018.csv\"\n",
    "\n",
    "df = pd.read_csv(url)\n",
    "df.head()"
   ]
  },
  {
   "cell_type": "code",
   "execution_count": 2,
   "id": "bb48a811",
   "metadata": {},
   "outputs": [
    {
     "data": {
      "text/plain": [
       "0              [Accurate]\n",
       "1              [Accurate]\n",
       "2         [Won, Accurate]\n",
       "3    [Lost, Not accurate]\n",
       "4              [Accurate]\n",
       "Name: tags, dtype: object"
      ]
     },
     "execution_count": 2,
     "metadata": {},
     "output_type": "execute_result"
    }
   ],
   "source": [
    "df['tags'] = df['tags'].apply(ast.literal_eval)\n",
    "df['tags'].head()"
   ]
  },
  {
   "cell_type": "code",
   "execution_count": 7,
   "id": "6fd4fe6a",
   "metadata": {},
   "outputs": [
    {
     "data": {
      "text/plain": [
       "array(['Pass', 'Duel', 'Free Kick', 'Foul', 'Others on the ball', 'Shot',\n",
       "       'Save attempt', 'Offside', 'Goalkeeper leaving line'], dtype=object)"
      ]
     },
     "execution_count": 7,
     "metadata": {},
     "output_type": "execute_result"
    }
   ],
   "source": [
    "df['eventName'].unique()"
   ]
  },
  {
   "cell_type": "code",
   "execution_count": 6,
   "id": "d6c70eec",
   "metadata": {},
   "outputs": [
    {
     "data": {
      "text/plain": [
       "np.int64(56457)"
      ]
     },
     "execution_count": 6,
     "metadata": {},
     "output_type": "execute_result"
    }
   ],
   "source": [
    "# create is_pass column => int\n",
    "df['is_pass'] = df['eventName'].apply(lambda item: item == \"Pass\").astype(int)\n",
    "df['is_pass'].sum()"
   ]
  },
  {
   "cell_type": "code",
   "execution_count": 9,
   "id": "9ed49d1c",
   "metadata": {},
   "outputs": [
    {
     "data": {
      "text/plain": [
       "np.int64(128)"
      ]
     },
     "execution_count": 9,
     "metadata": {},
     "output_type": "execute_result"
    }
   ],
   "source": [
    "# create is_goal column => int\n",
    "df['is_goal'] = df.apply(\n",
    "    lambda row: row['eventName'] == \"Shot\" and \"Goal\" in row[\"tags\"], \n",
    "    axis=1\n",
    ").astype(int)\n",
    "df['is_goal'].sum()"
   ]
  },
  {
   "cell_type": "code",
   "execution_count": 11,
   "id": "9098e899",
   "metadata": {},
   "outputs": [
    {
     "data": {
      "text/html": [
       "<div>\n",
       "<style scoped>\n",
       "    .dataframe tbody tr th:only-of-type {\n",
       "        vertical-align: middle;\n",
       "    }\n",
       "\n",
       "    .dataframe tbody tr th {\n",
       "        vertical-align: top;\n",
       "    }\n",
       "\n",
       "    .dataframe thead th {\n",
       "        text-align: right;\n",
       "    }\n",
       "</style>\n",
       "<table border=\"1\" class=\"dataframe\">\n",
       "  <thead>\n",
       "    <tr style=\"text-align: right;\">\n",
       "      <th></th>\n",
       "      <th>eventId</th>\n",
       "      <th>subEventName</th>\n",
       "      <th>tags</th>\n",
       "      <th>playerId</th>\n",
       "      <th>matchId</th>\n",
       "      <th>eventName</th>\n",
       "      <th>teamId</th>\n",
       "      <th>matchPeriod</th>\n",
       "      <th>eventSec</th>\n",
       "      <th>subEventId</th>\n",
       "      <th>id</th>\n",
       "      <th>x1</th>\n",
       "      <th>y1</th>\n",
       "      <th>x2</th>\n",
       "      <th>y2</th>\n",
       "      <th>is_pass</th>\n",
       "      <th>is_goal</th>\n",
       "    </tr>\n",
       "  </thead>\n",
       "  <tbody>\n",
       "    <tr>\n",
       "      <th>0</th>\n",
       "      <td>8</td>\n",
       "      <td>Simple pass</td>\n",
       "      <td>[Accurate]</td>\n",
       "      <td>Mohammad Ibrahim Al Sahlawi</td>\n",
       "      <td>Russia - Saudi Arabia, 5 - 0</td>\n",
       "      <td>Pass</td>\n",
       "      <td>Saudi Arabia</td>\n",
       "      <td>1H</td>\n",
       "      <td>1.656214</td>\n",
       "      <td>Simple pass</td>\n",
       "      <td>258612104</td>\n",
       "      <td>50</td>\n",
       "      <td>50</td>\n",
       "      <td>35.0</td>\n",
       "      <td>53.0</td>\n",
       "      <td>1</td>\n",
       "      <td>0</td>\n",
       "    </tr>\n",
       "    <tr>\n",
       "      <th>1</th>\n",
       "      <td>8</td>\n",
       "      <td>High pass</td>\n",
       "      <td>[Accurate]</td>\n",
       "      <td>Abdullah Ibrahim Otayf</td>\n",
       "      <td>Russia - Saudi Arabia, 5 - 0</td>\n",
       "      <td>Pass</td>\n",
       "      <td>Saudi Arabia</td>\n",
       "      <td>1H</td>\n",
       "      <td>4.487814</td>\n",
       "      <td>High pass</td>\n",
       "      <td>258612106</td>\n",
       "      <td>35</td>\n",
       "      <td>53</td>\n",
       "      <td>75.0</td>\n",
       "      <td>19.0</td>\n",
       "      <td>1</td>\n",
       "      <td>0</td>\n",
       "    </tr>\n",
       "  </tbody>\n",
       "</table>\n",
       "</div>"
      ],
      "text/plain": [
       "   eventId subEventName        tags                     playerId  \\\n",
       "0        8  Simple pass  [Accurate]  Mohammad Ibrahim Al Sahlawi   \n",
       "1        8    High pass  [Accurate]       Abdullah Ibrahim Otayf   \n",
       "\n",
       "                        matchId eventName        teamId matchPeriod  eventSec  \\\n",
       "0  Russia - Saudi Arabia, 5 - 0      Pass  Saudi Arabia          1H  1.656214   \n",
       "1  Russia - Saudi Arabia, 5 - 0      Pass  Saudi Arabia          1H  4.487814   \n",
       "\n",
       "    subEventId         id  x1  y1    x2    y2  is_pass  is_goal  \n",
       "0  Simple pass  258612104  50  50  35.0  53.0        1        0  \n",
       "1    High pass  258612106  35  53  75.0  19.0        1        0  "
      ]
     },
     "execution_count": 11,
     "metadata": {},
     "output_type": "execute_result"
    }
   ],
   "source": [
    "df.head(2)"
   ]
  },
  {
   "cell_type": "code",
   "execution_count": 12,
   "id": "f2f9e58d",
   "metadata": {},
   "outputs": [
    {
     "data": {
      "text/html": [
       "<div>\n",
       "<style scoped>\n",
       "    .dataframe tbody tr th:only-of-type {\n",
       "        vertical-align: middle;\n",
       "    }\n",
       "\n",
       "    .dataframe tbody tr th {\n",
       "        vertical-align: top;\n",
       "    }\n",
       "\n",
       "    .dataframe thead th {\n",
       "        text-align: right;\n",
       "    }\n",
       "</style>\n",
       "<table border=\"1\" class=\"dataframe\">\n",
       "  <thead>\n",
       "    <tr style=\"text-align: right;\">\n",
       "      <th></th>\n",
       "      <th>matchId</th>\n",
       "      <th>teamId</th>\n",
       "      <th>passes</th>\n",
       "      <th>goals</th>\n",
       "    </tr>\n",
       "  </thead>\n",
       "  <tbody>\n",
       "    <tr>\n",
       "      <th>0</th>\n",
       "      <td>Argentina - Croatia, 0 - 3</td>\n",
       "      <td>Argentina</td>\n",
       "      <td>476</td>\n",
       "      <td>0</td>\n",
       "    </tr>\n",
       "    <tr>\n",
       "      <th>1</th>\n",
       "      <td>Argentina - Croatia, 0 - 3</td>\n",
       "      <td>Croatia</td>\n",
       "      <td>334</td>\n",
       "      <td>3</td>\n",
       "    </tr>\n",
       "    <tr>\n",
       "      <th>2</th>\n",
       "      <td>Argentina - Iceland, 1 - 1</td>\n",
       "      <td>Argentina</td>\n",
       "      <td>744</td>\n",
       "      <td>1</td>\n",
       "    </tr>\n",
       "    <tr>\n",
       "      <th>3</th>\n",
       "      <td>Argentina - Iceland, 1 - 1</td>\n",
       "      <td>Iceland</td>\n",
       "      <td>183</td>\n",
       "      <td>1</td>\n",
       "    </tr>\n",
       "    <tr>\n",
       "      <th>4</th>\n",
       "      <td>Australia - Peru, 0 - 2</td>\n",
       "      <td>Australia</td>\n",
       "      <td>512</td>\n",
       "      <td>0</td>\n",
       "    </tr>\n",
       "    <tr>\n",
       "      <th>...</th>\n",
       "      <td>...</td>\n",
       "      <td>...</td>\n",
       "      <td>...</td>\n",
       "      <td>...</td>\n",
       "    </tr>\n",
       "    <tr>\n",
       "      <th>123</th>\n",
       "      <td>Uruguay - Portugal, 2 - 1</td>\n",
       "      <td>Uruguay</td>\n",
       "      <td>238</td>\n",
       "      <td>2</td>\n",
       "    </tr>\n",
       "    <tr>\n",
       "      <th>124</th>\n",
       "      <td>Uruguay - Russia, 3 - 0</td>\n",
       "      <td>Russia</td>\n",
       "      <td>327</td>\n",
       "      <td>0</td>\n",
       "    </tr>\n",
       "    <tr>\n",
       "      <th>125</th>\n",
       "      <td>Uruguay - Russia, 3 - 0</td>\n",
       "      <td>Uruguay</td>\n",
       "      <td>466</td>\n",
       "      <td>1</td>\n",
       "    </tr>\n",
       "    <tr>\n",
       "      <th>126</th>\n",
       "      <td>Uruguay - Saudi Arabia, 1 - 0</td>\n",
       "      <td>Saudi Arabia</td>\n",
       "      <td>553</td>\n",
       "      <td>0</td>\n",
       "    </tr>\n",
       "    <tr>\n",
       "      <th>127</th>\n",
       "      <td>Uruguay - Saudi Arabia, 1 - 0</td>\n",
       "      <td>Uruguay</td>\n",
       "      <td>473</td>\n",
       "      <td>1</td>\n",
       "    </tr>\n",
       "  </tbody>\n",
       "</table>\n",
       "<p>128 rows × 4 columns</p>\n",
       "</div>"
      ],
      "text/plain": [
       "                           matchId        teamId  passes  goals\n",
       "0       Argentina - Croatia, 0 - 3     Argentina     476      0\n",
       "1       Argentina - Croatia, 0 - 3       Croatia     334      3\n",
       "2       Argentina - Iceland, 1 - 1     Argentina     744      1\n",
       "3       Argentina - Iceland, 1 - 1       Iceland     183      1\n",
       "4          Australia - Peru, 0 - 2     Australia     512      0\n",
       "..                             ...           ...     ...    ...\n",
       "123      Uruguay - Portugal, 2 - 1       Uruguay     238      2\n",
       "124        Uruguay - Russia, 3 - 0        Russia     327      0\n",
       "125        Uruguay - Russia, 3 - 0       Uruguay     466      1\n",
       "126  Uruguay - Saudi Arabia, 1 - 0  Saudi Arabia     553      0\n",
       "127  Uruguay - Saudi Arabia, 1 - 0       Uruguay     473      1\n",
       "\n",
       "[128 rows x 4 columns]"
      ]
     },
     "execution_count": 12,
     "metadata": {},
     "output_type": "execute_result"
    }
   ],
   "source": [
    "# group by matchId and teamId\n",
    "group_df = df.groupby(['matchId', 'teamId']).agg(\n",
    "    passes=(\"is_pass\", \"sum\"),\n",
    "    goals=(\"is_goal\", \"sum\")\n",
    ").reset_index()\n",
    "group_df"
   ]
  },
  {
   "cell_type": "code",
   "execution_count": null,
   "id": "d9f563d7",
   "metadata": {},
   "outputs": [],
   "source": [
    "# get r,p,r^2\n",
    "def create_regplot(df: pd.DataFrame, x:str, y:str)-> None:\n",
    "    \"\"\"\n",
    "    Create a regplot that includes the r,p,r^2 values of\n",
    "    the data strings of columns from the df.T\n",
    "    \n",
    "    Parameters:\n",
    "        df (pd.DataFrame) : the data frame we want to visualize\n",
    "        etc.\n",
    "    \"\"\"\n",
    "    x_data= df[x]\n",
    "    y_data = df[y]\n",
    "    r, p = stats.pearsonr(x_data, y_data)\n",
    "    r_sq = r**2\n",
    "    text=f\"r-val={r:.3f}\\np-val={p:.3f}\\nr-sq={r_sq:.3f}\"\n",
    "    reg = sns.regplot(\n",
    "        data=df, \n",
    "        x=x, \n",
    "        y=y,\n",
    "        scatter_kws={\"color\": \"blue\", \"alpha\": 0.5},\n",
    "        line_kws={\"color\": \"red\", \"label\": \"line of best fit\"})\n",
    "    plt.text(0.15, 0.70, text, transform=plt.gcf().transFigure)\n",
    "    reg.set(\n",
    "        xlabel=x.replace(\"_\", \" \").title(),\n",
    "        ylabel=y.replace(\"_\", \" \").title()\n",
    "    )\n",
    "    plt.show()\n",
    "    \n",
    "    "
   ]
  },
  {
   "cell_type": "code",
   "execution_count": 19,
   "id": "ca3b2d10",
   "metadata": {},
   "outputs": [
    {
     "data": {
      "image/png": "[encoded data removed]",
      "text/plain": [
       "<Figure size 640x480 with 1 Axes>"
      ]
     },
     "metadata": {},
     "output_type": "display_data"
    }
   ],
   "source": [
    "create_regplot(df=group_df, x=\"passes\", y=\"goals\")"
   ]
  },
  {
   "cell_type": "code",
   "execution_count": 25,
   "id": "cdb0ad96",
   "metadata": {},
   "outputs": [],
   "source": [
    "adf = df.loc[df['x2']>33]\n",
    "adf\n",
    "df['shot'] = df['eventName'].apply(lambda x: x==\"Shot\").astype(int)"
   ]
  },
  {
   "cell_type": "code",
   "execution_count": 28,
   "id": "ce0db506",
   "metadata": {},
   "outputs": [
    {
     "data": {
      "image/png": "[encoded data removed]",
      "text/plain": [
       "<Figure size 640x480 with 1 Axes>"
      ]
     },
     "metadata": {},
     "output_type": "display_data"
    }
   ],
   "source": [
    "group_adf = df.groupby(['matchId', 'teamId']).agg(\n",
    "    shots=(\"shot\", \"sum\"),\n",
    "    goals=(\"is_goal\", \"sum\")\n",
    ").reset_index()\n",
    "group_adf\n",
    "create_regplot(group_adf, \"shots\", \"goals\")"
   ]
  },
  {
   "cell_type": "code",
   "execution_count": null,
   "id": "c44e5d40",
   "metadata": {},
   "outputs": [],
   "source": []
  }
 ],
 "metadata": {
  "kernelspec": {
   "display_name": "py-class",
   "language": "python",
   "name": "python3"
  },
  "language_info": {
   "codemirror_mode": {
    "name": "ipython",
    "version": 3
   },
   "file_extension": ".py",
   "mimetype": "text/x-python",
   "name": "python",
   "nbconvert_exporter": "python",
   "pygments_lexer": "ipython3",
   "version": "3.13.5"
  }
 },
 "nbformat": 4,
 "nbformat_minor": 5
}
