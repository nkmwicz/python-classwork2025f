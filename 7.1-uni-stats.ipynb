{
 "cells": [
  {
   "cell_type": "code",
   "execution_count": 1,
   "id": "3395160b",
   "metadata": {},
   "outputs": [
    {
     "data": {
      "text/html": [
       "<div>\n",
       "<style scoped>\n",
       "    .dataframe tbody tr th:only-of-type {\n",
       "        vertical-align: middle;\n",
       "    }\n",
       "\n",
       "    .dataframe tbody tr th {\n",
       "        vertical-align: top;\n",
       "    }\n",
       "\n",
       "    .dataframe thead th {\n",
       "        text-align: right;\n",
       "    }\n",
       "</style>\n",
       "<table border=\"1\" class=\"dataframe\">\n",
       "  <thead>\n",
       "    <tr style=\"text-align: right;\">\n",
       "      <th></th>\n",
       "      <th>player_id</th>\n",
       "      <th>first_name</th>\n",
       "      <th>last_name</th>\n",
       "      <th>name</th>\n",
       "      <th>last_season</th>\n",
       "      <th>current_club_id</th>\n",
       "      <th>player_code</th>\n",
       "      <th>country_of_birth</th>\n",
       "      <th>city_of_birth</th>\n",
       "      <th>country_of_citizenship</th>\n",
       "      <th>...</th>\n",
       "      <th>foot</th>\n",
       "      <th>height_in_cm</th>\n",
       "      <th>contract_expiration_date</th>\n",
       "      <th>agent_name</th>\n",
       "      <th>image_url</th>\n",
       "      <th>url</th>\n",
       "      <th>current_club_domestic_competition_id</th>\n",
       "      <th>current_club_name</th>\n",
       "      <th>market_value_in_eur</th>\n",
       "      <th>highest_market_value_in_eur</th>\n",
       "    </tr>\n",
       "  </thead>\n",
       "  <tbody>\n",
       "    <tr>\n",
       "      <th>0</th>\n",
       "      <td>10</td>\n",
       "      <td>Miroslav</td>\n",
       "      <td>Klose</td>\n",
       "      <td>Miroslav Klose</td>\n",
       "      <td>2015</td>\n",
       "      <td>398</td>\n",
       "      <td>miroslav-klose</td>\n",
       "      <td>Poland</td>\n",
       "      <td>Opole</td>\n",
       "      <td>Germany</td>\n",
       "      <td>...</td>\n",
       "      <td>right</td>\n",
       "      <td>184.0</td>\n",
       "      <td>NaN</td>\n",
       "      <td>ASBW Sport Marketing</td>\n",
       "      <td>https://img.a.transfermarkt.technology/portrai...</td>\n",
       "      <td>https://www.transfermarkt.co.uk/miroslav-klose...</td>\n",
       "      <td>IT1</td>\n",
       "      <td>Società Sportiva Lazio S.p.A.</td>\n",
       "      <td>1000000.0</td>\n",
       "      <td>30000000.0</td>\n",
       "    </tr>\n",
       "    <tr>\n",
       "      <th>1</th>\n",
       "      <td>26</td>\n",
       "      <td>Roman</td>\n",
       "      <td>Weidenfeller</td>\n",
       "      <td>Roman Weidenfeller</td>\n",
       "      <td>2017</td>\n",
       "      <td>16</td>\n",
       "      <td>roman-weidenfeller</td>\n",
       "      <td>Germany</td>\n",
       "      <td>Diez</td>\n",
       "      <td>Germany</td>\n",
       "      <td>...</td>\n",
       "      <td>left</td>\n",
       "      <td>190.0</td>\n",
       "      <td>NaN</td>\n",
       "      <td>Neubauer 13 GmbH</td>\n",
       "      <td>https://img.a.transfermarkt.technology/portrai...</td>\n",
       "      <td>https://www.transfermarkt.co.uk/roman-weidenfe...</td>\n",
       "      <td>L1</td>\n",
       "      <td>Borussia Dortmund</td>\n",
       "      <td>750000.0</td>\n",
       "      <td>8000000.0</td>\n",
       "    </tr>\n",
       "    <tr>\n",
       "      <th>2</th>\n",
       "      <td>65</td>\n",
       "      <td>Dimitar</td>\n",
       "      <td>Berbatov</td>\n",
       "      <td>Dimitar Berbatov</td>\n",
       "      <td>2015</td>\n",
       "      <td>1091</td>\n",
       "      <td>dimitar-berbatov</td>\n",
       "      <td>Bulgaria</td>\n",
       "      <td>Blagoevgrad</td>\n",
       "      <td>Bulgaria</td>\n",
       "      <td>...</td>\n",
       "      <td>NaN</td>\n",
       "      <td>NaN</td>\n",
       "      <td>NaN</td>\n",
       "      <td>CSKA-AS-23 Ltd.</td>\n",
       "      <td>https://img.a.transfermarkt.technology/portrai...</td>\n",
       "      <td>https://www.transfermarkt.co.uk/dimitar-berbat...</td>\n",
       "      <td>GR1</td>\n",
       "      <td>Panthessalonikios Athlitikos Omilos Konstantin...</td>\n",
       "      <td>1000000.0</td>\n",
       "      <td>34500000.0</td>\n",
       "    </tr>\n",
       "    <tr>\n",
       "      <th>3</th>\n",
       "      <td>77</td>\n",
       "      <td>NaN</td>\n",
       "      <td>Lúcio</td>\n",
       "      <td>Lúcio</td>\n",
       "      <td>2012</td>\n",
       "      <td>506</td>\n",
       "      <td>lucio</td>\n",
       "      <td>Brazil</td>\n",
       "      <td>Brasília</td>\n",
       "      <td>Brazil</td>\n",
       "      <td>...</td>\n",
       "      <td>NaN</td>\n",
       "      <td>NaN</td>\n",
       "      <td>NaN</td>\n",
       "      <td>NaN</td>\n",
       "      <td>https://img.a.transfermarkt.technology/portrai...</td>\n",
       "      <td>https://www.transfermarkt.co.uk/lucio/profil/s...</td>\n",
       "      <td>IT1</td>\n",
       "      <td>Juventus Football Club</td>\n",
       "      <td>200000.0</td>\n",
       "      <td>24500000.0</td>\n",
       "    </tr>\n",
       "    <tr>\n",
       "      <th>4</th>\n",
       "      <td>80</td>\n",
       "      <td>Tom</td>\n",
       "      <td>Starke</td>\n",
       "      <td>Tom Starke</td>\n",
       "      <td>2017</td>\n",
       "      <td>27</td>\n",
       "      <td>tom-starke</td>\n",
       "      <td>East Germany (GDR)</td>\n",
       "      <td>Freital</td>\n",
       "      <td>Germany</td>\n",
       "      <td>...</td>\n",
       "      <td>right</td>\n",
       "      <td>194.0</td>\n",
       "      <td>NaN</td>\n",
       "      <td>IFM</td>\n",
       "      <td>https://img.a.transfermarkt.technology/portrai...</td>\n",
       "      <td>https://www.transfermarkt.co.uk/tom-starke/pro...</td>\n",
       "      <td>L1</td>\n",
       "      <td>FC Bayern München</td>\n",
       "      <td>100000.0</td>\n",
       "      <td>3000000.0</td>\n",
       "    </tr>\n",
       "  </tbody>\n",
       "</table>\n",
       "<p>5 rows × 23 columns</p>\n",
       "</div>"
      ],
      "text/plain": [
       "   player_id first_name     last_name                name  last_season  \\\n",
       "0         10   Miroslav         Klose      Miroslav Klose         2015   \n",
       "1         26      Roman  Weidenfeller  Roman Weidenfeller         2017   \n",
       "2         65    Dimitar      Berbatov    Dimitar Berbatov         2015   \n",
       "3         77        NaN         Lúcio               Lúcio         2012   \n",
       "4         80        Tom        Starke          Tom Starke         2017   \n",
       "\n",
       "   current_club_id         player_code    country_of_birth city_of_birth  \\\n",
       "0              398      miroslav-klose              Poland         Opole   \n",
       "1               16  roman-weidenfeller             Germany          Diez   \n",
       "2             1091    dimitar-berbatov            Bulgaria   Blagoevgrad   \n",
       "3              506               lucio              Brazil      Brasília   \n",
       "4               27          tom-starke  East Germany (GDR)       Freital   \n",
       "\n",
       "  country_of_citizenship  ...   foot height_in_cm contract_expiration_date  \\\n",
       "0                Germany  ...  right        184.0                      NaN   \n",
       "1                Germany  ...   left        190.0                      NaN   \n",
       "2               Bulgaria  ...    NaN          NaN                      NaN   \n",
       "3                 Brazil  ...    NaN          NaN                      NaN   \n",
       "4                Germany  ...  right        194.0                      NaN   \n",
       "\n",
       "             agent_name                                          image_url  \\\n",
       "0  ASBW Sport Marketing  https://img.a.transfermarkt.technology/portrai...   \n",
       "1      Neubauer 13 GmbH  https://img.a.transfermarkt.technology/portrai...   \n",
       "2       CSKA-AS-23 Ltd.  https://img.a.transfermarkt.technology/portrai...   \n",
       "3                   NaN  https://img.a.transfermarkt.technology/portrai...   \n",
       "4                   IFM  https://img.a.transfermarkt.technology/portrai...   \n",
       "\n",
       "                                                 url  \\\n",
       "0  https://www.transfermarkt.co.uk/miroslav-klose...   \n",
       "1  https://www.transfermarkt.co.uk/roman-weidenfe...   \n",
       "2  https://www.transfermarkt.co.uk/dimitar-berbat...   \n",
       "3  https://www.transfermarkt.co.uk/lucio/profil/s...   \n",
       "4  https://www.transfermarkt.co.uk/tom-starke/pro...   \n",
       "\n",
       "  current_club_domestic_competition_id  \\\n",
       "0                                  IT1   \n",
       "1                                   L1   \n",
       "2                                  GR1   \n",
       "3                                  IT1   \n",
       "4                                   L1   \n",
       "\n",
       "                                   current_club_name market_value_in_eur  \\\n",
       "0                      Società Sportiva Lazio S.p.A.           1000000.0   \n",
       "1                                  Borussia Dortmund            750000.0   \n",
       "2  Panthessalonikios Athlitikos Omilos Konstantin...           1000000.0   \n",
       "3                             Juventus Football Club            200000.0   \n",
       "4                                  FC Bayern München            100000.0   \n",
       "\n",
       "  highest_market_value_in_eur  \n",
       "0                  30000000.0  \n",
       "1                   8000000.0  \n",
       "2                  34500000.0  \n",
       "3                  24500000.0  \n",
       "4                   3000000.0  \n",
       "\n",
       "[5 rows x 23 columns]"
      ]
     },
     "execution_count": 1,
     "metadata": {},
     "output_type": "execute_result"
    }
   ],
   "source": [
    "import pandas as pd\n",
    "# %pip install scipy\n",
    "from scipy import stats\n",
    "url = \"https://raw.githubusercontent.com/nkmwicz/data-for-students/refs/heads/main/soccer-players.csv\"\n",
    "df = pd.read_csv(url)\n",
    "df.head(5)"
   ]
  },
  {
   "cell_type": "code",
   "execution_count": 2,
   "id": "478e50f0",
   "metadata": {},
   "outputs": [
    {
     "name": "stdout",
     "output_type": "stream",
     "text": [
      "<class 'pandas.core.frame.DataFrame'>\n",
      "RangeIndex: 32403 entries, 0 to 32402\n",
      "Data columns (total 23 columns):\n",
      " #   Column                                Non-Null Count  Dtype  \n",
      "---  ------                                --------------  -----  \n",
      " 0   player_id                             32403 non-null  int64  \n",
      " 1   first_name                            30345 non-null  object \n",
      " 2   last_name                             32403 non-null  object \n",
      " 3   name                                  32403 non-null  object \n",
      " 4   last_season                           32403 non-null  int64  \n",
      " 5   current_club_id                       32403 non-null  int64  \n",
      " 6   player_code                           32403 non-null  object \n",
      " 7   country_of_birth                      29600 non-null  object \n",
      " 8   city_of_birth                         29942 non-null  object \n",
      " 9   country_of_citizenship                32023 non-null  object \n",
      " 10  date_of_birth                         32356 non-null  object \n",
      " 11  sub_position                          32218 non-null  object \n",
      " 12  position                              32403 non-null  object \n",
      " 13  foot                                  29810 non-null  object \n",
      " 14  height_in_cm                          30059 non-null  float64\n",
      " 15  contract_expiration_date              20272 non-null  object \n",
      " 16  agent_name                            16388 non-null  object \n",
      " 17  image_url                             32403 non-null  object \n",
      " 18  url                                   32403 non-null  object \n",
      " 19  current_club_domestic_competition_id  32403 non-null  object \n",
      " 20  current_club_name                     32403 non-null  object \n",
      " 21  market_value_in_eur                   30869 non-null  float64\n",
      " 22  highest_market_value_in_eur           30869 non-null  float64\n",
      "dtypes: float64(3), int64(3), object(17)\n",
      "memory usage: 5.7+ MB\n"
     ]
    }
   ],
   "source": [
    "df.info()"
   ]
  },
  {
   "cell_type": "code",
   "execution_count": 3,
   "id": "20f3b864",
   "metadata": {},
   "outputs": [
    {
     "data": {
      "text/plain": [
       "(32403, 23)"
      ]
     },
     "execution_count": 3,
     "metadata": {},
     "output_type": "execute_result"
    }
   ],
   "source": [
    "df.shape"
   ]
  },
  {
   "cell_type": "code",
   "execution_count": 4,
   "id": "d5eb6125",
   "metadata": {},
   "outputs": [
    {
     "data": {
      "text/html": [
       "<div>\n",
       "<style scoped>\n",
       "    .dataframe tbody tr th:only-of-type {\n",
       "        vertical-align: middle;\n",
       "    }\n",
       "\n",
       "    .dataframe tbody tr th {\n",
       "        vertical-align: top;\n",
       "    }\n",
       "\n",
       "    .dataframe thead th {\n",
       "        text-align: right;\n",
       "    }\n",
       "</style>\n",
       "<table border=\"1\" class=\"dataframe\">\n",
       "  <thead>\n",
       "    <tr style=\"text-align: right;\">\n",
       "      <th></th>\n",
       "      <th>player_id</th>\n",
       "      <th>last_season</th>\n",
       "      <th>current_club_id</th>\n",
       "      <th>height_in_cm</th>\n",
       "      <th>market_value_in_eur</th>\n",
       "      <th>highest_market_value_in_eur</th>\n",
       "    </tr>\n",
       "  </thead>\n",
       "  <tbody>\n",
       "    <tr>\n",
       "      <th>count</th>\n",
       "      <td>3.240300e+04</td>\n",
       "      <td>32403.000000</td>\n",
       "      <td>32403.000000</td>\n",
       "      <td>30059.000000</td>\n",
       "      <td>3.086900e+04</td>\n",
       "      <td>3.086900e+04</td>\n",
       "    </tr>\n",
       "    <tr>\n",
       "      <th>mean</th>\n",
       "      <td>3.445789e+05</td>\n",
       "      <td>2019.337777</td>\n",
       "      <td>4809.252045</td>\n",
       "      <td>182.291161</td>\n",
       "      <td>1.611350e+06</td>\n",
       "      <td>3.675045e+06</td>\n",
       "    </tr>\n",
       "    <tr>\n",
       "      <th>std</th>\n",
       "      <td>2.806831e+05</td>\n",
       "      <td>3.965914</td>\n",
       "      <td>11601.982978</td>\n",
       "      <td>6.971224</td>\n",
       "      <td>6.362017e+06</td>\n",
       "      <td>9.653897e+06</td>\n",
       "    </tr>\n",
       "    <tr>\n",
       "      <th>min</th>\n",
       "      <td>1.000000e+01</td>\n",
       "      <td>2012.000000</td>\n",
       "      <td>3.000000</td>\n",
       "      <td>17.000000</td>\n",
       "      <td>1.000000e+04</td>\n",
       "      <td>1.000000e+04</td>\n",
       "    </tr>\n",
       "    <tr>\n",
       "      <th>25%</th>\n",
       "      <td>1.066980e+05</td>\n",
       "      <td>2016.000000</td>\n",
       "      <td>403.000000</td>\n",
       "      <td>178.000000</td>\n",
       "      <td>1.000000e+05</td>\n",
       "      <td>2.750000e+05</td>\n",
       "    </tr>\n",
       "    <tr>\n",
       "      <th>50%</th>\n",
       "      <td>2.824210e+05</td>\n",
       "      <td>2020.000000</td>\n",
       "      <td>1071.000000</td>\n",
       "      <td>183.000000</td>\n",
       "      <td>2.500000e+05</td>\n",
       "      <td>8.000000e+05</td>\n",
       "    </tr>\n",
       "    <tr>\n",
       "      <th>75%</th>\n",
       "      <td>5.242085e+05</td>\n",
       "      <td>2023.000000</td>\n",
       "      <td>3060.000000</td>\n",
       "      <td>187.000000</td>\n",
       "      <td>7.000000e+05</td>\n",
       "      <td>2.800000e+06</td>\n",
       "    </tr>\n",
       "    <tr>\n",
       "      <th>max</th>\n",
       "      <td>1.309800e+06</td>\n",
       "      <td>2024.000000</td>\n",
       "      <td>110302.000000</td>\n",
       "      <td>207.000000</td>\n",
       "      <td>2.000000e+08</td>\n",
       "      <td>2.000000e+08</td>\n",
       "    </tr>\n",
       "  </tbody>\n",
       "</table>\n",
       "</div>"
      ],
      "text/plain": [
       "          player_id   last_season  current_club_id  height_in_cm  \\\n",
       "count  3.240300e+04  32403.000000     32403.000000  30059.000000   \n",
       "mean   3.445789e+05   2019.337777      4809.252045    182.291161   \n",
       "std    2.806831e+05      3.965914     11601.982978      6.971224   \n",
       "min    1.000000e+01   2012.000000         3.000000     17.000000   \n",
       "25%    1.066980e+05   2016.000000       403.000000    178.000000   \n",
       "50%    2.824210e+05   2020.000000      1071.000000    183.000000   \n",
       "75%    5.242085e+05   2023.000000      3060.000000    187.000000   \n",
       "max    1.309800e+06   2024.000000    110302.000000    207.000000   \n",
       "\n",
       "       market_value_in_eur  highest_market_value_in_eur  \n",
       "count         3.086900e+04                 3.086900e+04  \n",
       "mean          1.611350e+06                 3.675045e+06  \n",
       "std           6.362017e+06                 9.653897e+06  \n",
       "min           1.000000e+04                 1.000000e+04  \n",
       "25%           1.000000e+05                 2.750000e+05  \n",
       "50%           2.500000e+05                 8.000000e+05  \n",
       "75%           7.000000e+05                 2.800000e+06  \n",
       "max           2.000000e+08                 2.000000e+08  "
      ]
     },
     "execution_count": 4,
     "metadata": {},
     "output_type": "execute_result"
    }
   ],
   "source": [
    "df.describe()"
   ]
  },
  {
   "cell_type": "code",
   "execution_count": 5,
   "id": "bd5f6393",
   "metadata": {},
   "outputs": [
    {
     "data": {
      "text/plain": [
       "np.float64(182.29116071725608)"
      ]
     },
     "execution_count": 5,
     "metadata": {},
     "output_type": "execute_result"
    }
   ],
   "source": [
    "df['height_in_cm'].mean()"
   ]
  },
  {
   "cell_type": "code",
   "execution_count": 6,
   "id": "de5edd15",
   "metadata": {},
   "outputs": [
    {
     "data": {
      "text/plain": [
       "6.0039372"
      ]
     },
     "execution_count": 6,
     "metadata": {},
     "output_type": "execute_result"
    }
   ],
   "source": [
    "def convert(float:float) -> float:\n",
    "    return float * 0.0328084\n",
    "\n",
    "convert(df['height_in_cm'].median())"
   ]
  },
  {
   "cell_type": "code",
   "execution_count": 7,
   "id": "6077c150",
   "metadata": {},
   "outputs": [
    {
     "data": {
      "text/plain": [
       "np.float64(5.905512)"
      ]
     },
     "execution_count": 7,
     "metadata": {},
     "output_type": "execute_result"
    }
   ],
   "source": [
    "convert(df['height_in_cm'].mode()[0])"
   ]
  },
  {
   "cell_type": "code",
   "execution_count": 8,
   "id": "7f93457f",
   "metadata": {},
   "outputs": [
    {
     "data": {
      "text/plain": [
       "np.float64(5.980681317276025)"
      ]
     },
     "execution_count": 8,
     "metadata": {},
     "output_type": "execute_result"
    }
   ],
   "source": [
    "convert(df['height_in_cm'].mean())"
   ]
  },
  {
   "cell_type": "code",
   "execution_count": 9,
   "id": "8316ca0b",
   "metadata": {},
   "outputs": [
    {
     "data": {
      "text/plain": [
       "180.0"
      ]
     },
     "execution_count": 9,
     "metadata": {},
     "output_type": "execute_result"
    }
   ],
   "source": [
    "import statistics as stats\n",
    "\n",
    "stats.mean(df['height_in_cm'].dropna())\n",
    "stats.median(df['height_in_cm'].dropna())\n",
    "stats.mode(df['height_in_cm'].dropna())\n"
   ]
  },
  {
   "cell_type": "code",
   "execution_count": 10,
   "id": "f5a36c21",
   "metadata": {},
   "outputs": [
    {
     "data": {
      "text/plain": [
       "207.0"
      ]
     },
     "execution_count": 10,
     "metadata": {},
     "output_type": "execute_result"
    }
   ],
   "source": [
    "df['height_in_cm'].min()\n",
    "df['height_in_cm'].max()"
   ]
  },
  {
   "cell_type": "code",
   "execution_count": 11,
   "id": "dfd8473b",
   "metadata": {},
   "outputs": [
    {
     "data": {
      "text/plain": [
       "np.float64(-1.7750589204621978)"
      ]
     },
     "execution_count": 11,
     "metadata": {},
     "output_type": "execute_result"
    }
   ],
   "source": [
    "from scipy import stats as st\n",
    "\n",
    "st.skew(df['height_in_cm'], nan_policy=\"omit\")"
   ]
  },
  {
   "cell_type": "code",
   "execution_count": 12,
   "id": "6e3d6512",
   "metadata": {},
   "outputs": [
    {
     "data": {
      "text/plain": [
       "25290    19.0\n",
       "25976    18.0\n",
       "26907    18.0\n",
       "30360    17.0\n",
       "Name: height_in_cm, dtype: float64"
      ]
     },
     "execution_count": 12,
     "metadata": {},
     "output_type": "execute_result"
    }
   ],
   "source": [
    "df.loc[df['height_in_cm'] < 150, 'height_in_cm'] #.count()"
   ]
  },
  {
   "cell_type": "code",
   "execution_count": 13,
   "id": "21ff46a4",
   "metadata": {},
   "outputs": [
    {
     "data": {
      "text/plain": [
       "np.float64(40.36548066183285)"
      ]
     },
     "execution_count": 13,
     "metadata": {},
     "output_type": "execute_result"
    }
   ],
   "source": [
    "st.kurtosis(df['height_in_cm'], nan_policy=\"omit\")"
   ]
  },
  {
   "cell_type": "code",
   "execution_count": 14,
   "id": "282b8c94",
   "metadata": {},
   "outputs": [
    {
     "name": "stdout",
     "output_type": "stream",
     "text": [
      "old shape = (32403, 23)\n",
      "new shape = (30055, 23)\n"
     ]
    }
   ],
   "source": [
    "print(f\"old shape = {df.shape}\")\n",
    "df = df.loc[df['height_in_cm'] > 150]\n",
    "print(f\"new shape = {df.shape}\")"
   ]
  },
  {
   "cell_type": "code",
   "execution_count": 15,
   "id": "819a1c74",
   "metadata": {},
   "outputs": [
    {
     "name": "stdout",
     "output_type": "stream",
     "text": [
      "skew = -0.046876795739341504; kurt = -0.3076357973086883\n"
     ]
    }
   ],
   "source": [
    "sk = st.skew(df['height_in_cm'])\n",
    "kurt = st.kurtosis(df['height_in_cm'])\n",
    "print(f\"skew = {sk}; kurt = {kurt}\")"
   ]
  },
  {
   "cell_type": "code",
   "execution_count": 17,
   "id": "0007e0db",
   "metadata": {},
   "outputs": [
    {
     "name": "stdout",
     "output_type": "stream",
     "text": [
      "DF shape = (30055, 23)\n",
      "====Numeric Columns====\n",
      "player_id\n",
      "\t is numeric\n",
      "\t # Nullish = 0\n",
      "\t Mean = 326005.04614872736\n",
      "\t Median = 264966.0\n",
      "\t Mode = 10\n",
      "\t ST.Dev = 266595.392\n",
      "\t 33%ile = 154207.2\n",
      "\t 66%ile = 390781.95999999996\n",
      "last_season\n",
      "\t is numeric\n",
      "\t # Nullish = 0\n",
      "\t Mean = 2019.3525536516386\n",
      "\t Median = 2020.0\n",
      "\t Mode = 2024\n",
      "\t ST.Dev = 3.964\n",
      "\t 33%ile = 2017.0\n",
      "\t 66%ile = 2022.0\n",
      "current_club_id\n",
      "\t is numeric\n",
      "\t # Nullish = 0\n",
      "\t Mean = 4952.292430544003\n",
      "\t Median = 1082.0\n",
      "\t Mode = 2553\n",
      "\t ST.Dev = 11889.433\n",
      "\t 33%ile = 595.0\n",
      "\t 66%ile = 2457.0\n",
      "height_in_cm\n",
      "\t is numeric\n",
      "\t # Nullish = 0\n",
      "\t Mean = 182.31302611878223\n",
      "\t Median = 183.0\n",
      "\t Mode = 180.0\n",
      "\t ST.Dev = 6.709\n",
      "\t 33%ile = 179.0\n",
      "\t 66%ile = 185.0\n",
      "market_value_in_eur\n",
      "\t is numeric\n",
      "\t # Nullish = 911\n",
      "\t Mean = 1696020.2786165248\n",
      "\t Median = 250000.0\n",
      "\t Mode = 100000.0\n",
      "\t ST.Dev = 6537327.578\n",
      "\t 33%ile = 150000.0\n",
      "\t 66%ile = 450000.0\n",
      "highest_market_value_in_eur\n",
      "\t is numeric\n",
      "\t # Nullish = 911\n",
      "\t Mean = 3847006.7595388414\n",
      "\t Median = 800000.0\n",
      "\t Mode = 1000000.0\n",
      "\t ST.Dev = 9890951.499\n",
      "\t 33%ile = 400000.0\n",
      "\t 66%ile = 1800000.0\n",
      "\n",
      "====Categorical Columns====\n",
      "\n",
      "first_name\n",
      "\t is categorical\n",
      "\t # Nullish = 2031\n",
      "\t # unique value = 6582\n",
      "\n",
      "last_name\n",
      "\t is categorical\n",
      "\t # Nullish = 0\n",
      "\t # unique value = 22223\n",
      "\n",
      "name\n",
      "\t is categorical\n",
      "\t # Nullish = 0\n",
      "\t # unique value = 29405\n",
      "\n",
      "player_code\n",
      "\t is categorical\n",
      "\t # Nullish = 0\n",
      "\t # unique value = 29368\n",
      "\n",
      "country_of_birth\n",
      "\t is categorical\n",
      "\t # Nullish = 1894\n",
      "\t # unique value = 184\n",
      "\n",
      "city_of_birth\n",
      "\t is categorical\n",
      "\t # Nullish = 1566\n",
      "\t # unique value = 8352\n",
      "\n",
      "country_of_citizenship\n",
      "\t is categorical\n",
      "\t # Nullish = 348\n",
      "\t # unique value = 183\n",
      "\n",
      "date_of_birth\n",
      "\t is categorical\n",
      "\t # Nullish = 36\n",
      "\t # unique value = 9007\n",
      "\n",
      "sub_position\n",
      "\t is categorical\n",
      "\t # Nullish = 107\n",
      "\t # unique value = 13\n",
      "\t\t uniques = ['Centre-Forward' 'Goalkeeper' 'Attacking Midfield' 'Central Midfield'\n",
      " 'Defensive Midfield' 'Left Midfield' 'Left-Back' 'Centre-Back'\n",
      " 'Right-Back' nan 'Second Striker' 'Right Winger' 'Right Midfield'\n",
      " 'Left Winger']\n",
      "\n",
      "position\n",
      "\t is categorical\n",
      "\t # Nullish = 0\n",
      "\t # unique value = 5\n",
      "\t\t uniques = ['Attack' 'Goalkeeper' 'Midfield' 'Defender' 'Missing']\n",
      "\n",
      "foot\n",
      "\t is categorical\n",
      "\t # Nullish = 1221\n",
      "\t # unique value = 3\n",
      "\t\t uniques = ['right' 'left' 'both' nan]\n",
      "\n",
      "contract_expiration_date\n",
      "\t is categorical\n",
      "\t # Nullish = 10916\n",
      "\t # unique value = 108\n",
      "\n",
      "agent_name\n",
      "\t is categorical\n",
      "\t # Nullish = 14432\n",
      "\t # unique value = 2772\n",
      "\n",
      "image_url\n",
      "\t is categorical\n",
      "\t # Nullish = 0\n",
      "\t # unique value = 25452\n",
      "\n",
      "url\n",
      "\t is categorical\n",
      "\t # Nullish = 0\n",
      "\t # unique value = 30055\n",
      "\n",
      "current_club_domestic_competition_id\n",
      "\t is categorical\n",
      "\t # Nullish = 0\n",
      "\t # unique value = 14\n",
      "\t\t uniques = ['IT1' 'L1' 'GB1' 'ES1' 'TR1' 'FR1' 'DK1' 'BE1' 'UKR1' 'NL1' 'RU1' 'SC1'\n",
      " 'PO1' 'GR1']\n",
      "\n",
      "current_club_name\n",
      "\t is categorical\n",
      "\t # Nullish = 0\n",
      "\t # unique value = 437\n"
     ]
    }
   ],
   "source": [
    "from scripts.eda import eda\n",
    "eda(df, max_uniques=15)"
   ]
  },
  {
   "cell_type": "code",
   "execution_count": 18,
   "id": "a1b881b9",
   "metadata": {},
   "outputs": [
    {
     "data": {
      "text/plain": [
       "array(['Attack', 'Goalkeeper', 'Midfield', 'Defender', 'Missing'],\n",
       "      dtype=object)"
      ]
     },
     "execution_count": 18,
     "metadata": {},
     "output_type": "execute_result"
    }
   ],
   "source": [
    "df['position'].unique()"
   ]
  },
  {
   "cell_type": "code",
   "execution_count": 20,
   "id": "257850e7",
   "metadata": {},
   "outputs": [
    {
     "data": {
      "text/plain": [
       "{'Attack': 0        184.0\n",
       " 9        193.0\n",
       " 10       180.0\n",
       " 21       184.0\n",
       " 63       173.0\n",
       "          ...  \n",
       " 32374    189.0\n",
       " 32385    174.0\n",
       " 32398    178.0\n",
       " 32399    180.0\n",
       " 32400    164.0\n",
       " Name: height_in_cm, Length: 8330, dtype: float64,\n",
       " 'Goalkeeper': 1        190.0\n",
       " 4        194.0\n",
       " 8        193.0\n",
       " 19       188.0\n",
       " 22       196.0\n",
       "          ...  \n",
       " 32364    186.0\n",
       " 32367    195.0\n",
       " 32369    185.0\n",
       " 32370    189.0\n",
       " 32387    185.0\n",
       " Name: height_in_cm, Length: 3399, dtype: float64,\n",
       " 'Midfield': 7        179.0\n",
       " 11       167.0\n",
       " 13       176.0\n",
       " 14       183.0\n",
       " 17       187.0\n",
       "          ...  \n",
       " 32373    185.0\n",
       " 32377    176.0\n",
       " 32380    188.0\n",
       " 32383    181.0\n",
       " 32391    180.0\n",
       " Name: height_in_cm, Length: 8645, dtype: float64,\n",
       " 'Defender': 30       178.0\n",
       " 36       185.0\n",
       " 39       175.0\n",
       " 43       191.0\n",
       " 45       191.0\n",
       "          ...  \n",
       " 32368    175.0\n",
       " 32375    177.0\n",
       " 32376    180.0\n",
       " 32393    186.0\n",
       " 32394    175.0\n",
       " Name: height_in_cm, Length: 9574, dtype: float64,\n",
       " 'Missing': 70       174.0\n",
       " 1108     181.0\n",
       " 1211     178.0\n",
       " 1690     179.0\n",
       " 1858     177.0\n",
       "          ...  \n",
       " 29972    179.0\n",
       " 30533    168.0\n",
       " 31750    170.0\n",
       " 32343    187.0\n",
       " 32382    175.0\n",
       " Name: height_in_cm, Length: 107, dtype: float64}"
      ]
     },
     "execution_count": 20,
     "metadata": {},
     "output_type": "execute_result"
    }
   ],
   "source": [
    "positions_ht= {}\n",
    "for pos in df['position'].unique():\n",
    "    positions_ht[pos] = df.loc[df['position']==pos,'height_in_cm']\n",
    "\n",
    "positions_ht"
   ]
  },
  {
   "cell_type": "code",
   "execution_count": 25,
   "id": "1b607ff1",
   "metadata": {},
   "outputs": [
    {
     "name": "stdout",
     "output_type": "stream",
     "text": [
      "Attack skew = 0.022812040847935883\n",
      "Attack Kurtosis = -0.24151606202705267\n",
      "Goalkeeper skew = 0.23723291213249006\n",
      "Goalkeeper Kurtosis = 0.21593840610856319\n",
      "Midfield skew = -0.021189471669046618\n",
      "Midfield Kurtosis = -0.1390772517743475\n",
      "Defender skew = -0.2575792999403228\n",
      "Defender Kurtosis = -0.22279746289593882\n",
      "Missing skew = 0.09974197154870858\n",
      "Missing Kurtosis = 0.12661604797192805\n"
     ]
    }
   ],
   "source": [
    "for pos in positions_ht:\n",
    "    print(f\"{pos} skew = {st.skew(positions_ht[pos], nan_policy=\"omit\")}\")\n",
    "    print(f\"{pos} Kurtosis = {st.kurtosis(positions_ht[pos], nan_policy=\"omit\")}\")"
   ]
  },
  {
   "cell_type": "code",
   "execution_count": 28,
   "id": "bc6ff259",
   "metadata": {},
   "outputs": [
    {
     "name": "stdout",
     "output_type": "stream",
     "text": [
      "Attack mean = 5.930384154381753\n",
      "Attack median = 5.905512\n",
      "Attack mode = 5.905512\n",
      "Goalkeeper mean = 6.222515081141512\n",
      "Goalkeeper median = 6.233596\n",
      "Goalkeeper mode = 6.233596\n",
      "Midfield mean = 5.8876827503528055\n",
      "Midfield median = 5.905512\n",
      "Midfield mode = 5.905512\n",
      "Defender mean = 6.0256940969709625\n",
      "Defender median = 6.036745600000001\n",
      "Defender mode = 6.069554\n",
      "Missing mean = 5.901832553271029\n",
      "Missing median = 5.905512\n",
      "Missing mode = 5.905512\n"
     ]
    }
   ],
   "source": [
    "for pos in positions_ht:\n",
    "    mn = stats.mean(positions_ht[pos].dropna())\n",
    "    mdn = stats.median(positions_ht[pos].dropna())\n",
    "    md = positions_ht[pos].dropna().mode()\n",
    "    print(f\"{pos} mean = {convert(mn)}\")\n",
    "    print(f\"{pos} median = {convert(mdn)}\")\n",
    "    print(f\"{pos} mode = {convert(md[0])}\")"
   ]
  },
  {
   "cell_type": "code",
   "execution_count": 29,
   "id": "1bab78fa",
   "metadata": {},
   "outputs": [
    {
     "data": {
      "text/plain": [
       "<Axes: >"
      ]
     },
     "execution_count": 29,
     "metadata": {},
     "output_type": "execute_result"
    },
    {
     "data": {
      "image/png": "[encoded data removed]",
      "text/plain": [
       "<Figure size 640x480 with 1 Axes>"
      ]
     },
     "metadata": {},
     "output_type": "display_data"
    }
   ],
   "source": [
    "df[\"height_in_cm\"].hist()"
   ]
  },
  {
   "cell_type": "code",
   "execution_count": 31,
   "id": "f53c5eda",
   "metadata": {},
   "outputs": [
    {
     "data": {
      "image/png": "[encoded data removed]",
      "text/plain": [
       "<Figure size 640x480 with 1 Axes>"
      ]
     },
     "metadata": {},
     "output_type": "display_data"
    }
   ],
   "source": [
    "for pos in positions_ht:\n",
    "    positions_ht[pos].hist(legend=True)"
   ]
  },
  {
   "cell_type": "code",
   "execution_count": 32,
   "id": "4825560f",
   "metadata": {},
   "outputs": [
    {
     "data": {
      "text/plain": [
       "0    1978-06-09 00:00:00\n",
       "1    1980-08-06 00:00:00\n",
       "4    1981-03-18 00:00:00\n",
       "7    1980-10-04 00:00:00\n",
       "8    1976-06-13 00:00:00\n",
       "Name: date_of_birth, dtype: object"
      ]
     },
     "execution_count": 32,
     "metadata": {},
     "output_type": "execute_result"
    }
   ],
   "source": [
    "df['date_of_birth'].head()"
   ]
  },
  {
   "cell_type": "code",
   "execution_count": 33,
   "id": "ecafa397",
   "metadata": {},
   "outputs": [],
   "source": [
    "df['birth_month'] = pd.to_datetime(df['date_of_birth']).dt.month"
   ]
  },
  {
   "cell_type": "code",
   "execution_count": null,
   "id": "d919d9b9",
   "metadata": {},
   "outputs": [
    {
     "data": {
      "text/plain": [
       "np.float64(5.744328591891802)"
      ]
     },
     "execution_count": 35,
     "metadata": {},
     "output_type": "execute_result"
    }
   ],
   "source": [
    "df['birth_month'].dropna().mean()"
   ]
  },
  {
   "cell_type": "code",
   "execution_count": 36,
   "id": "846884b5",
   "metadata": {},
   "outputs": [
    {
     "data": {
      "text/plain": [
       "np.float64(0.25637254061103487)"
      ]
     },
     "execution_count": 36,
     "metadata": {},
     "output_type": "execute_result"
    }
   ],
   "source": [
    "st.skew(df['birth_month'].dropna())"
   ]
  },
  {
   "cell_type": "code",
   "execution_count": 39,
   "id": "72ddbb39",
   "metadata": {},
   "outputs": [
    {
     "name": "stdout",
     "output_type": "stream",
     "text": [
      "1.0 = 3725\n",
      "2.0 = 3005\n",
      "3.0 = 3128\n",
      "4.0 = 2781\n",
      "5.0 = 2709\n",
      "6.0 = 2413\n",
      "7.0 = 2355\n",
      "8.0 = 2240\n",
      "9.0 = 2150\n",
      "10.0 = 1948\n",
      "11.0 = 1842\n",
      "12.0 = 1723\n"
     ]
    }
   ],
   "source": [
    "for mth in df['birth_month'].sort_values().dropna().unique():\n",
    "    count = df.loc[df['birth_month'] == mth, \"birth_month\"].count()\n",
    "    print(f\"{mth} = {count}\")"
   ]
  },
  {
   "cell_type": "code",
   "execution_count": null,
   "id": "8690cd24",
   "metadata": {},
   "outputs": [],
   "source": []
  }
 ],
 "metadata": {
  "kernelspec": {
   "display_name": "py-class",
   "language": "python",
   "name": "python3"
  },
  "language_info": {
   "codemirror_mode": {
    "name": "ipython",
    "version": 3
   },
   "file_extension": ".py",
   "mimetype": "text/x-python",
   "name": "python",
   "nbconvert_exporter": "python",
   "pygments_lexer": "ipython3",
   "version": "3.13.5"
  }
 },
 "nbformat": 4,
 "nbformat_minor": 5
}
